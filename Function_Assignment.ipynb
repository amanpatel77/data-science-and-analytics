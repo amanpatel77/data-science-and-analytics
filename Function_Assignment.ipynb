{
  "nbformat": 4,
  "nbformat_minor": 0,
  "metadata": {
    "colab": {
      "provenance": []
    },
    "kernelspec": {
      "name": "python3",
      "display_name": "Python 3"
    },
    "language_info": {
      "name": "python"
    }
  },
  "cells": [
    {
      "cell_type": "markdown",
      "source": [
        "# 1 **What is the difference between a function and a method in Python?**\n",
        "\n",
        "  - Function can exist independently, outside of a class\n",
        "  - Fuction is defined using the def keyword.\n",
        "  - Method is a function that is defined inside a class\n",
        "  - Method can only be called on an instance (object) of the class.\n",
        "\n",
        "# 2 **Explain the concept of function arguments and parameters in Python**\n",
        "\n",
        "  - Function argumnets are the actual values passed to a function when calling it.\n",
        "  - Parameters are placeholders defined in a function's definition.\n",
        "\n",
        "# 3 **What are the different ways to define and call a function in Python?**\n",
        "\n",
        "  - The simplest way to define a function using def and call it by its name.\n",
        "  - Function with Default Arguments.\n",
        "  - Function with Variable-Length Arguments (*args)\n",
        "  - Function with Variable-Length Keyword Arguments (**kwargs)\n",
        "  - Nested Functions\n",
        "\n",
        "# 4 **What is the purpose of the `return` statement in a Python function?**\n",
        "\n",
        "  - The return statement in a Python function is used to send back a value from the function to the caller.\n",
        "\n",
        "# 5 **What are iterators in Python and how do they differ from iterables?**\n",
        "\n",
        "  - An Iterable is basically an object that any user can iterate over. An Iterator is also an object that helps a user in iterating over another object (that is iterable). We can generate an iterator when we pass the object to the iter() method.\n",
        "\n",
        "# 6 **Explain the concept of generators in Python and how they are defined.**\n",
        "\n",
        "  - Generators are a simple way to create iterators using functions and the yield keyword instead of returning values.\n",
        "  - Uses yield instead of return.\n",
        "  - Returns a generator object when called.\n",
        "\n",
        "# 7 **What are the advantages of using generators over regular functions?**\n",
        "\n",
        "  - Faster Execution\n",
        "  - Memory Efficiency\n",
        "  - Can Handle Infinite Sequences\n",
        "\n",
        "# 8 **What is a lambda function in Python and when is it typically used?**\n",
        "\n",
        "  - A lambda function in Python is a small, anonymous function defined using the lambda keyword. It is used for writing quick, one-time functions without defining a full function using def.\n",
        "\n",
        "# 9 **Explain the purpose and usage of the `map()` function in Python.**\n",
        "\n",
        "  - Map function applies a given function to all items in an input iterable and returns an iterator with the results.\n",
        "\n",
        "# 10 **What is the difference between `map()`, `reduce()`, and `filter()` functions in Python?**\n",
        "\n",
        "  - Map function applies a given function to all items in an input iterable and returns an iterator with the results.\n",
        "  - Reduce() function  reduces an iterable to a single cumulative value by applying the function cumulatively.\n",
        "  - filter() function filters the elements from an iterable based on condition defined by the function.\n",
        "\n",
        ""
      ],
      "metadata": {
        "id": "lx2wQDQHRHOy"
      }
    },
    {
      "cell_type": "code",
      "source": [
        "# 1**Write a Python function that takes a list of numbers as input and returns the sum of all even numbers in the list.**\n",
        "\n",
        "l = [1,2,3,4,5,6]\n",
        "def sumlst(l):\n",
        "  sum = 0\n",
        "  for i in l:\n",
        "    if i%2==0:\n",
        "      sum=sum+i\n",
        "  return sum\n",
        "sumlst(l)\n"
      ],
      "metadata": {
        "colab": {
          "base_uri": "https://localhost:8080/"
        },
        "id": "nHuaSMuxe_Sn",
        "outputId": "8cc18dcf-5591-427e-bf3d-3c7277b76cb8"
      },
      "execution_count": 2,
      "outputs": [
        {
          "output_type": "execute_result",
          "data": {
            "text/plain": [
              "12"
            ]
          },
          "metadata": {},
          "execution_count": 2
        }
      ]
    },
    {
      "cell_type": "code",
      "source": [
        "# 2 **Create a Python function that accepts a string and returns the reverse of that string**\n",
        "\n",
        "name = input(\"Enter your name: \")\n",
        "def reverse(name):\n",
        "  return name[::-1]\n",
        "reverse(name)"
      ],
      "metadata": {
        "colab": {
          "base_uri": "https://localhost:8080/",
          "height": 53
        },
        "id": "cjuCxWu2fziN",
        "outputId": "07828319-e25e-4550-92b0-299047117e09"
      },
      "execution_count": 3,
      "outputs": [
        {
          "name": "stdout",
          "output_type": "stream",
          "text": [
            "Enter your name: aman\n"
          ]
        },
        {
          "output_type": "execute_result",
          "data": {
            "text/plain": [
              "'nama'"
            ],
            "application/vnd.google.colaboratory.intrinsic+json": {
              "type": "string"
            }
          },
          "metadata": {},
          "execution_count": 3
        }
      ]
    },
    {
      "cell_type": "code",
      "source": [
        "# 3 ** Implement a Python function that takes a list of integers and returns a new list containing the squares of each number.**\n",
        "\n",
        "l1 = [1,2,5,6,3,12]\n",
        "def square(l1):\n",
        "  l2 = []\n",
        "  for i in l1:\n",
        "    l2.append(i**2)\n",
        "  return l2\n",
        "square(l1)"
      ],
      "metadata": {
        "colab": {
          "base_uri": "https://localhost:8080/"
        },
        "id": "rccdiytCgPVt",
        "outputId": "fc355d06-7430-4fb2-cfec-7ad3ae93a26e"
      },
      "execution_count": 4,
      "outputs": [
        {
          "output_type": "execute_result",
          "data": {
            "text/plain": [
              "[1, 4, 25, 36, 9, 144]"
            ]
          },
          "metadata": {},
          "execution_count": 4
        }
      ]
    },
    {
      "cell_type": "code",
      "source": [
        "# 4 ** Write a Python function that checks if a given number is prime or not from 1 to 200.**\n",
        "\n",
        "nu = int(input(\"Enter a number: \"))\n",
        "def prime(nu):\n",
        "  if nu > 1:\n",
        "    for i in range(2, nu):\n",
        "      if (nu % i) == 0:\n",
        "        print(nu, \"is not a prime number\")\n",
        "        break\n",
        "    else:\n",
        "      print(nu, \"is a prime number\")\n",
        "prime(nu)\n"
      ],
      "metadata": {
        "colab": {
          "base_uri": "https://localhost:8080/"
        },
        "id": "08gQ_OYggnVu",
        "outputId": "d9730697-1c94-4241-927c-094dcb6fa207"
      },
      "execution_count": 9,
      "outputs": [
        {
          "output_type": "stream",
          "name": "stdout",
          "text": [
            "Enter a number: 23\n",
            "23 is a prime number\n"
          ]
        }
      ]
    },
    {
      "cell_type": "code",
      "source": [
        "# 5 ** Create an iterator class in Python that generates the Fibonacci sequence up to a specified number of terms.**\n",
        "\n",
        "class FibonacciIterator:\n",
        "      def __init__(self, n_terms):\n",
        "\n",
        "        self.n_terms = n_terms\n",
        "        self.count = 0\n",
        "        self.a, self.b = 0, 1\n",
        "\n",
        "\n",
        "      def __iter__(self):\n",
        "\n",
        "        return self\n",
        "\n",
        "      def __next__(self):\n",
        "        if self.count >= self.n_terms:\n",
        "            raise StopIteration\n",
        "\n",
        "        fib_number = self.a\n",
        "        self.a, self.b = self.b, self.a + self.b\n",
        "        self.count += 1\n",
        "        return fib_number\n",
        "\n",
        "\n",
        "fib_iterator = FibonacciIterator(10)\n",
        "\n",
        "print(list(fib_iterator))"
      ],
      "metadata": {
        "colab": {
          "base_uri": "https://localhost:8080/"
        },
        "id": "yRwXgO0thYOP",
        "outputId": "766d220a-a72e-48f9-ffa6-25f178948672"
      },
      "execution_count": 12,
      "outputs": [
        {
          "output_type": "stream",
          "name": "stdout",
          "text": [
            "[0, 1, 1, 2, 3, 5, 8, 13, 21, 34]\n"
          ]
        }
      ]
    },
    {
      "cell_type": "code",
      "source": [
        "# 6 **Write a generator function in Python that yields the powers of 2 up to a given exponent**\n",
        "\n",
        "def square(n):\n",
        "  for i in range(n):\n",
        "    yield 2 ** i\n",
        "gen =square(5)\n",
        "print(next(gen))\n",
        "print(next(gen))\n",
        "print(next(gen))\n"
      ],
      "metadata": {
        "colab": {
          "base_uri": "https://localhost:8080/"
        },
        "id": "eqru1LSzjeSi",
        "outputId": "3b8750e0-30b7-4f8c-e428-11655f03b744"
      },
      "execution_count": 18,
      "outputs": [
        {
          "output_type": "stream",
          "name": "stdout",
          "text": [
            "1\n",
            "2\n",
            "4\n"
          ]
        }
      ]
    },
    {
      "cell_type": "code",
      "source": [
        "# 7 **Implement a generator function that reads a file line by line and yields each line as a string.**\n",
        "\n",
        " # Not yet coverd in this module.\n"
      ],
      "metadata": {
        "id": "xYIJzCxFlDP-"
      },
      "execution_count": null,
      "outputs": []
    },
    {
      "cell_type": "code",
      "source": [
        "# 8 **Use a lambda function in Python to sort a list of tuples based on the second element of each tuple.**\n",
        "std = [(\"sam\",21),(\"jake\",19),(\"smith\",28),(\"daisy\",23)]\n",
        "sorted_std = sorted(std, key = lambda x: x[1])\n",
        "print(sorted_std)"
      ],
      "metadata": {
        "colab": {
          "base_uri": "https://localhost:8080/"
        },
        "id": "6lNa4b5Zps8P",
        "outputId": "3ce4aeff-1f6a-42a7-9514-3b9d15d3271f"
      },
      "execution_count": 1,
      "outputs": [
        {
          "output_type": "stream",
          "name": "stdout",
          "text": [
            "[('jake', 19), ('sam', 21), ('daisy', 23), ('smith', 28)]\n"
          ]
        }
      ]
    },
    {
      "cell_type": "code",
      "source": [
        "# 9 **Write a Python program that uses `map()` to convert a list of temperatures from Celsius to Fahrenheit**\n",
        "\n",
        "lst1=[36,17,19,27]\n",
        "lst2=list(map(lambda x :(x * 9/5) + 32,lst1))\n",
        "print(lst2)"
      ],
      "metadata": {
        "colab": {
          "base_uri": "https://localhost:8080/"
        },
        "id": "JOfJYwWqHD50",
        "outputId": "9eddef16-7ecd-460f-fa8d-a84d6d94f3e8"
      },
      "execution_count": 4,
      "outputs": [
        {
          "output_type": "stream",
          "name": "stdout",
          "text": [
            "[96.8, 62.6, 66.2, 80.6]\n"
          ]
        }
      ]
    },
    {
      "cell_type": "code",
      "source": [
        "# 10 **Create a Python program that uses `filter()` to remove all the vowels from a given string**\n",
        "name = input(\"Enter your name: \")\n",
        "vowels = \"aeiouAEIOU\"\n",
        "filtered_name = \"\".join(filter(lambda x: x not in vowels, name))\n",
        "print(filtered_name)"
      ],
      "metadata": {
        "colab": {
          "base_uri": "https://localhost:8080/"
        },
        "id": "snAcYwoZH6tN",
        "outputId": "75d1f6fe-9fc0-4428-e31b-5dbeb5bbffc6"
      },
      "execution_count": 6,
      "outputs": [
        {
          "output_type": "stream",
          "name": "stdout",
          "text": [
            "Enter your name: aman\n",
            "mn\n"
          ]
        }
      ]
    },
    {
      "cell_type": "code",
      "source": [
        "name = input(\"Enter your name: \")\n",
        "vowels = \"aeiouAEIOU\"\n",
        "filtered_name = list(filter(lambda x: x not in vowels, name))\n",
        "print(filtered_name)"
      ],
      "metadata": {
        "colab": {
          "base_uri": "https://localhost:8080/"
        },
        "id": "KdKol_BcIiFm",
        "outputId": "d22ac2b5-9211-4cbe-938a-bf736a5e224c"
      },
      "execution_count": 8,
      "outputs": [
        {
          "output_type": "stream",
          "name": "stdout",
          "text": [
            "Enter your name: AMAN\n",
            "['M', 'N']\n"
          ]
        }
      ]
    },
    {
      "cell_type": "code",
      "source": [
        "\"\"\" 11 **) Imagine an accounting routine used in a book shop. It works on a list with sublists, which look like this:\n",
        "Write a Python program, which returns a list with 2-tuples. Each tuple consists of the order number and the\n",
        "product of the price per item and the quantity. The product should be increased by 10,- € if the value of the\n",
        "order is smaller than 100,00 €\"\"\"\n",
        "orders = [[34587 , 40.95 , 4],[98762 , 56.80 , 5],[77226 , 32.95,3],[88112,24.99,3]]\n",
        "def acc_data(order):\n",
        "  result=[]\n",
        "  for order in orders:\n",
        "   order_number, price , quantity=order\n",
        "   product_price = price * quantity\n",
        "   if product_price<100:\n",
        "    product_price=product_price+10\n",
        "   result.append((order_number,product_price))\n",
        "  return result\n",
        "acc_data=acc_data(orders)\n",
        "print(acc_data)"
      ],
      "metadata": {
        "colab": {
          "base_uri": "https://localhost:8080/"
        },
        "id": "k2By12bYIvuO",
        "outputId": "66d11107-edc7-4dd0-d1cd-ce8fbe7c1323"
      },
      "execution_count": 26,
      "outputs": [
        {
          "output_type": "stream",
          "name": "stdout",
          "text": [
            "[(34587, 163.8), (98762, 284.0), (77226, 108.85000000000001), (88112, 84.97)]\n"
          ]
        }
      ]
    },
    {
      "cell_type": "code",
      "source": [
        "# 12 **Write a Python program using lambda and map.**\n",
        "\n",
        "list1 = [2,4,6,7,8]\n",
        "list2 = list(map(lambda x: x**3 , list1))\n",
        "print(list2)"
      ],
      "metadata": {
        "colab": {
          "base_uri": "https://localhost:8080/"
        },
        "id": "wphWqChzMr49",
        "outputId": "a4441c86-ce56-4ffc-fbac-c429b3b5cc14"
      },
      "execution_count": 27,
      "outputs": [
        {
          "output_type": "stream",
          "name": "stdout",
          "text": [
            "[8, 64, 216, 343, 512]\n"
          ]
        }
      ]
    },
    {
      "cell_type": "code",
      "source": [],
      "metadata": {
        "id": "v08lEQBoP97D"
      },
      "execution_count": null,
      "outputs": []
    }
  ]
}