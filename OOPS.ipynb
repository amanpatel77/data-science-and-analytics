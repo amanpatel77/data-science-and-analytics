{
  "nbformat": 4,
  "nbformat_minor": 0,
  "metadata": {
    "colab": {
      "provenance": []
    },
    "kernelspec": {
      "name": "python3",
      "display_name": "Python 3"
    },
    "language_info": {
      "name": "python"
    }
  },
  "cells": [
    {
      "cell_type": "markdown",
      "source": [
        "# 1 **What is Object-Oriented Programming (OOP)?**\n",
        "\n",
        "  - Object-Oriented Programming (OOP) in Python is a programming paradigm that organizes code around objects, which are instances of classes.\n",
        "\n",
        "# 2 **What is a class in OOP?**\n",
        "\n",
        "  - A class in OOP is like a blueprint or template for creating objects.\n",
        "  \n",
        "# 3 **What is an object in OOP?**\n",
        "\n",
        "  - Object is a specific instance of a class.\n",
        "  - A class is the blueprint (like the design of a car).\n",
        "  - An object is the actual car built using that design — it has real features and can do things.\n",
        "\n",
        "# 4 **What is the difference between abstraction and encapsulation?**\n",
        "\n",
        "  - Encapsulation\n",
        "    - Hides data to protect object integrity\n",
        "    - Prevents direct access to internal variables\n",
        "  - Abstraction\n",
        "    - Hides the internal implementation\n",
        "    - Shows only what an object does, not how it does it\n",
        "  \n",
        "# 5 **What are dunder methods in Python?**\n",
        "\n",
        "  - Dunder methods, also known as magic methods or special methods, in Python are special reserved methods that are surrounded by double underscores (i.e., __method__). These methods allow you to define how instances of your classes behave when they are used with built-in Python functions or operators.\n",
        "\n",
        "# 6 **Explain the concept of inheritance in OOP?**\n",
        "\n",
        "  - Child inherit traits from parents (like eye color, hair type).\n",
        "  - In OOP, a class can inherit functions and variables from another class the same way.\n",
        "\n",
        "# 7 **What is polymorphism in OOP?**\n",
        "\n",
        "  - In OOP, polymorphism refers to an object's capacity to assume several forms.Simply said, polymorphism enables us to carry out a single activity in a variety of ways\n",
        "\n",
        "# 8 **How is encapsulation achieved in Python?**\n",
        "\n",
        "  - A class's data members and methods can be made private or protected inorder to achieve encapsulation. Direct access modifiers like public, private, and protected don't exist in Python,though. Single and double underscores can be used to accomplish this.\n",
        "  - Modifiers for access control restrict use of a class's variables and methods. Private, public, and protected are the three different access modifier types that Python offers.\n",
        "\n",
        "# 9 **What is a constructor in Python?**\n",
        "\n",
        "  - A constructor is a special method that gets called automatically when you create an object from a class.\n",
        "\n",
        "# 10 **What are class and static methods in Python?**\n",
        "\n",
        "  - A class is a  method that belongs to the class, not just an instance. It can access or modify class-level data.\n",
        "  - A static method is a method that doesn’t depend on the class or instance\n",
        "  - It’s just grouped with the class because it’s related to it logically.\n",
        "\n",
        "# 11 **What is method overloading in Python?**\n",
        "\n",
        "  - Method overloading means defining multiple methods with the same name but different parameters (number or type), so the method behaves differently depending on how it's called.\n",
        "\n",
        "# 12 **What is method overriding in OOP?**\n",
        "\n",
        "  - Method overriding happens when a child class provides a specific implementation of a method that is already defined in its parent class.\n",
        "\n",
        "# 13 **What is a property decorator in Python?**\n",
        "\n",
        "  - The @property decorator in Python allows you to turn a method into a \"read-only\" attribute — meaning you can access a method like a variable, without using parentheses ().\n",
        "\n",
        "# 14 ** Why is polymorphism important in OOP?**\n",
        "\n",
        "  - enables code flexibility\n",
        "  - Supports code reusability\n",
        "  - Makes code cleaner and readable\n",
        "  - Allows extensibility without modifying existing code\n",
        "  - Follows Open/Closed Principle\n",
        "  - Promotes interface consistency\n",
        "\n",
        "# 15 **What is an abstract class in Python?**\n",
        "\n",
        "  - An abstract class in Python is a class that cannot be instantiated directly and is meant to be subclassed. It's used when you want to define a common interface or structure for all subclasses, but leave some methods unimplemented, expecting subclasses to provide the implementation.\n",
        "\n",
        "# 16 **What are the advantages of OOP?**\n",
        "\n",
        "  - Modularity – Code is organized into reusable classes.\n",
        "  - Reusability – Inheritance lets you reuse and extend existing code\n",
        "  - Flexibility – Polymorphism allows different behaviors with a common interface.\n",
        "  - Maintainability – Easier to debug, update, and scale.\n",
        "  - Security – Encapsulation hides internal details and protects data.\n",
        "  - Real-world modeling – Represents real-world entities intuitively.\n",
        "\n",
        "# 17 **What is the difference between a class variable and an instance variable?**\n",
        "\n",
        "  - Class Variable.\n",
        "    - Shared by all instances of the class.\n",
        "    - Defined inside the class, but outside any method.\n",
        "    - Changing it affects every object of the class.\n",
        "\n",
        "  - Instance Variable\n",
        "    - Unique to each object (instance).\n",
        "    - Defined using self inside methods (usually __init__).\n",
        "    - Changing it affects only that instance.\n",
        "\n",
        "# 18 **What is multiple inheritance in Python?**\n",
        "\n",
        "  - One child class may inherit from several parent classes when there is multiple inheritance.\n",
        "\n",
        "# 19 **Explain the purpose of ‘’__str__’ and ‘__repr__’ ‘ methods in Python.**\n",
        "\n",
        "  - ‘’__str__’\n",
        "    - Meant to return a readable, nicely formatted string for end users.\n",
        "\n",
        "  - ‘__repr__’\n",
        "    - Meant to return an unambiguous string, ideally one that can recreate the object.\n",
        "\n",
        "# 20 **What is the significance of the ‘super()’ function in Python?**\n",
        "\n",
        "  - The super() function in Python is used to call a method from a parent (super) class. It’s most commonly used in inheritance to ensure that the parent class is properly initialized or that its methods are reused.\n",
        "\n",
        "# 21 **What is the significance of the __del__ method in Python?**\n",
        "\n",
        "  - The __del__ method in Python is a destructor — it's called when an object is about to be destroyed (i.e. when it’s garbage collected).\n",
        "\n",
        "# 22 **What is the difference between @staticmethod and @classmethod in Python?**\n",
        "\n",
        "  - @staticmethod\n",
        "    - Doesn't take any automatic first argument (no self or cls).\n",
        "    - Works like a regular function, just inside a class for logical grouping\n",
        "    - Can't access or modify class or instance state.\n",
        "    \n",
        "  - @classmethod\n",
        "    - Takes cls as the first parameter (the class itself).\n",
        "    - Can access/modify class variables or create new instances.\n",
        "    - Often used as factory methods.\n",
        "\n",
        "# 23 **How does polymorphism work in Python with inheritance?**\n",
        "\n",
        "  - In Python, if a parent class defines a method, and a subclass overrides it, you can call the method on any object (parent or child), and the appropriate version runs based on the object's actual class.\n",
        "\n",
        "# 24 **What is method chaining in Python OOP?**\n",
        "\n",
        "  - Method chaining is a technique where multiple methods are called sequentially on the same object, all in one line. This works when each method returns self, allowing the next method to be called on the same object.\n",
        "\n",
        "# 25 **What is the purpose of the __call__ method in Python?**\n",
        "\n",
        "  - The __call__ method makes an object behave like a function. When you define __call__ in a class, you can \"call\" instances of that class using () — just like a regular function.\n",
        "\n",
        "\n"
      ],
      "metadata": {
        "id": "u7Gl8JkocBeN"
      }
    },
    {
      "cell_type": "code",
      "source": [
        "# 1 **Create a parent class Animal with a method speak() that prints a generic message. Create a child class Dog that overrides the speak() method to print \"Bark!\".**\n",
        "\n",
        "class Animal:\n",
        "  def speak(self):\n",
        "    print(\"Generic animal sound\")\n",
        "\n",
        "class Dog(Animal):\n",
        "  def speak(self):\n",
        "    print(\"Bark!\")\n",
        "\n",
        "dog = Dog()\n",
        "dog.speak()"
      ],
      "metadata": {
        "colab": {
          "base_uri": "https://localhost:8080/"
        },
        "id": "lKY-6V1K9niA",
        "outputId": "f1ff750c-e5fe-4208-f3d5-670fcfc60103"
      },
      "execution_count": null,
      "outputs": [
        {
          "output_type": "stream",
          "name": "stdout",
          "text": [
            "Bark!\n"
          ]
        }
      ]
    },
    {
      "cell_type": "code",
      "source": [
        "# **2. Write a program to create an abstract class Shape with a method area(). Derive classes Circle and Rectangle from it and implement the area() method in both.**\n",
        "\n",
        "from abc import ABC, abstractmethod\n",
        "\n",
        "class Shape(ABC):\n",
        "   def __init__(self, radius):\n",
        "    self.radius = radius\n",
        "\n",
        "   def area(self):\n",
        "    return 3.14 *self.radius**2\n",
        "@abstractmethod\n",
        "class Circle(Shape):\n",
        "  pass\n",
        "class Rectangle(Shape):\n",
        "  pass\n",
        "\n",
        "a = Circle(51)\n",
        "b = Rectangle(5)\n",
        "print(a.area())\n",
        "print(b.area())"
      ],
      "metadata": {
        "colab": {
          "base_uri": "https://localhost:8080/"
        },
        "id": "jW2OKU39-Cxu",
        "outputId": "bebd1217-bbcf-431b-b611-05af01a70ae6"
      },
      "execution_count": null,
      "outputs": [
        {
          "output_type": "stream",
          "name": "stdout",
          "text": [
            "8167.14\n",
            "78.5\n"
          ]
        }
      ]
    },
    {
      "cell_type": "code",
      "source": [
        "# 3. Implement a multi-level inheritance scenario where a class Vehicle has an attribute type. Derive a class Car and further derive a class ElectricCar that adds a battery attribute.\n",
        "\n",
        "class Vehicle:\n",
        "  def __init__(self, type):\n",
        "    self.type = type\n",
        "\n",
        "class Car(Vehicle):\n",
        "  pass\n",
        "\n",
        "class ElectricCar(Car):\n",
        "  def __init__(self, battery):\n",
        "    self.battery = battery\n",
        "  print(\"This is an electric car\")\n",
        "\n",
        "car = ElectricCar(50000)\n",
        "print(car.battery)"
      ],
      "metadata": {
        "colab": {
          "base_uri": "https://localhost:8080/"
        },
        "id": "62AUStxo-o0l",
        "outputId": "ec85c816-add4-4e1b-a3bb-82c1a9b73b13"
      },
      "execution_count": null,
      "outputs": [
        {
          "output_type": "stream",
          "name": "stdout",
          "text": [
            "This is an electric car\n",
            "50000\n"
          ]
        }
      ]
    },
    {
      "cell_type": "code",
      "source": [
        "# 4. Demonstrate polymorphism by creating a base class Bird with a method fly(). Create two derived classes Sparrow and Penguin that override the fly() method.\n",
        "\n",
        "class Bird:\n",
        "  def fly(self):\n",
        "    print(\"Birds can fly\")\n",
        "\n",
        "class Sparrow(Bird):\n",
        "  def fly(self):\n",
        "    print(\"Sparrows can fly\")\n",
        "\n",
        "class Penguin(Bird):\n",
        "  def fly(self):\n",
        "    print(\"Penguins can't fly\")\n",
        "\n",
        "bird = Bird()\n",
        "sparrow = Sparrow()\n",
        "penguin = Penguin()\n",
        "\n",
        "bird.fly()\n",
        "sparrow.fly()\n",
        "penguin.fly()"
      ],
      "metadata": {
        "colab": {
          "base_uri": "https://localhost:8080/"
        },
        "id": "fCcQ8veJBJ-B",
        "outputId": "9bbdf9c7-4f3c-49bf-b420-4c8b7a17e0f6"
      },
      "execution_count": null,
      "outputs": [
        {
          "output_type": "stream",
          "name": "stdout",
          "text": [
            "Birds can fly\n",
            "Sparrows can fly\n",
            "Penguins can't fly\n"
          ]
        }
      ]
    },
    {
      "cell_type": "code",
      "source": [
        "# 5. Write a program to demonstrate encapsulation by creating a class BankAccount with private attributes balance and methods to deposit, withdraw, and check balance.\n",
        "\n",
        "class BankAccount:\n",
        "  def __init__(self, balance):\n",
        "    self.__balance = balance\n",
        "\n",
        "  def deposit(self , amount):\n",
        "    self.amount = amount\n",
        "    self.__balance += amount\n",
        "    print(self.__balance)\n",
        "\n",
        "  def withdraw(self, amount):\n",
        "    self.amount = amount\n",
        "    if self.__balance >= self.amount:\n",
        "      self.__balance -= self.amount\n",
        "      print(self.__balance)\n",
        "    else:\n",
        "      print(\"Insufficient balance\")\n",
        "\n",
        "  def check_balance(self):\n",
        "    print(self.__balance)\n",
        "\n",
        "account = BankAccount(1000)\n",
        "dep = account.deposit(500)\n",
        "wit = account.withdraw(200)\n",
        "bal = account.check_balance()"
      ],
      "metadata": {
        "colab": {
          "base_uri": "https://localhost:8080/"
        },
        "id": "Oy5bnlrmBpM5",
        "outputId": "c3cea1a0-5970-4ba5-f974-ccb45007865a"
      },
      "execution_count": null,
      "outputs": [
        {
          "output_type": "stream",
          "name": "stdout",
          "text": [
            "1500\n",
            "1300\n",
            "1300\n"
          ]
        }
      ]
    },
    {
      "cell_type": "code",
      "source": [
        "\n",
        "# 6. Demonstrate runtime polymorphism using a method play() in a base class Instrument. Derive classes Guitar and Piano that implement their own version of play().\n",
        "\n",
        "class Instrument:\n",
        "  def play(self):\n",
        "    print(\"Instrument is playing\")\n",
        "\n",
        "class Guitar(Instrument):\n",
        "  def play(self):\n",
        "    print(\"Guitar is playing\")\n",
        "\n",
        "class Piano(Instrument):\n",
        "  def play(self):\n",
        "    print(\"Piano is playing\")\n",
        "\n",
        "ins = Instrument()\n",
        "guitar = Guitar()\n",
        "piano = Piano()\n",
        "\n",
        "ins.play()\n",
        "guitar.play()\n",
        "piano.play()"
      ],
      "metadata": {
        "colab": {
          "base_uri": "https://localhost:8080/"
        },
        "id": "lRJfnJYHCcz8",
        "outputId": "7c8ec76c-94a8-4f8a-c4d6-f0f92d6d8fe4"
      },
      "execution_count": null,
      "outputs": [
        {
          "output_type": "stream",
          "name": "stdout",
          "text": [
            "Instrument is playing\n",
            "Guitar is playing\n",
            "Piano is playing\n"
          ]
        }
      ]
    },
    {
      "cell_type": "code",
      "source": [
        "# 7. Create a class MathOperations with a class method add_numbers() to add two numbers and a static method subtract_numbers() to subtract two numbers.\n",
        "\n",
        "import math\n",
        "class MathOperations:\n",
        "  @classmethod\n",
        "  def add_numbers(cls, num1, num2):\n",
        "    return num1 + num2\n",
        "\n",
        "  @staticmethod\n",
        "  def subtract_numbers(num1, num2):\n",
        "    return num1 - num2\n",
        "\n",
        "add = MathOperations.add_numbers(5, 10)\n",
        "sub = MathOperations.subtract_numbers(10, 5)\n",
        "print(add)\n",
        "print(sub)"
      ],
      "metadata": {
        "colab": {
          "base_uri": "https://localhost:8080/"
        },
        "id": "N7boDRb3DDjz",
        "outputId": "ef7ed735-07e4-4f1b-adcf-30a1a50883c5"
      },
      "execution_count": null,
      "outputs": [
        {
          "output_type": "stream",
          "name": "stdout",
          "text": [
            "15\n",
            "5\n"
          ]
        }
      ]
    },
    {
      "cell_type": "code",
      "source": [
        "# 8  Implement a class Person with a class method to count the total number of persons created.\n",
        "\n",
        "class Person:\n",
        "  count = 0\n",
        "  def __init__(self,name):\n",
        "    self.name = name\n",
        "    Person.count =+1\n",
        "\n",
        "  @classmethod\n",
        "  def count_persons(cls):\n",
        "    return f\"Total person: {cls.count}\"\n",
        "\n",
        "person = Person(\"John\")\n",
        "person.count_persons()\n"
      ],
      "metadata": {
        "id": "WbRw1o6WD0mM",
        "colab": {
          "base_uri": "https://localhost:8080/",
          "height": 36
        },
        "outputId": "f100200b-209e-4029-b4f5-aacb4ee73b2a"
      },
      "execution_count": null,
      "outputs": [
        {
          "output_type": "execute_result",
          "data": {
            "text/plain": [
              "'Total person: 1'"
            ],
            "application/vnd.google.colaboratory.intrinsic+json": {
              "type": "string"
            }
          },
          "metadata": {},
          "execution_count": 11
        }
      ]
    },
    {
      "cell_type": "code",
      "source": [
        "# 9 Write a class Fraction with attributes numerator and denominator. Override the str method to display the fraction as \"numerator/denominator\".\n",
        "\n",
        "class Fraction:\n",
        "\n",
        "  def __init__(self, numerator, denominator):\n",
        "    self.numerator = numerator\n",
        "    self.denominator = denominator\n",
        "\n",
        "  def __str__(self):\n",
        "    return f\"{self.numerator}/{self.denominator}\"\n",
        "\n",
        "frac = Fraction(1, 2)\n",
        "print(frac)"
      ],
      "metadata": {
        "colab": {
          "base_uri": "https://localhost:8080/"
        },
        "id": "94_JzJ6sU6cr",
        "outputId": "f18df4b4-72bf-414d-eb9c-9efc8dcef95a"
      },
      "execution_count": null,
      "outputs": [
        {
          "output_type": "stream",
          "name": "stdout",
          "text": [
            "1/2\n"
          ]
        }
      ]
    },
    {
      "cell_type": "code",
      "source": [
        "# 10. Demonstrate operator overloading by creating a class Vector and overriding the add method to add two vectors.\n",
        "\n",
        "class Vector:\n",
        "  def __init__(self , x, y):\n",
        "    self.x = x\n",
        "    self.y = y\n",
        "\n",
        "  def __add__(self, other):\n",
        "    return Vector(self.x + other.x , self.y + other.y)\n",
        "  def __str__(self):\n",
        "    return f\"{self.x} {self.y}\"\n",
        "\n",
        "vec= Vector(1, 2)\n",
        "vec2 = Vector(3, 4)\n",
        "print(vec + vec2)"
      ],
      "metadata": {
        "colab": {
          "base_uri": "https://localhost:8080/"
        },
        "id": "J9RvxhmlXxMe",
        "outputId": "115773e4-a7b6-4cd4-fa18-79cda338b4d4"
      },
      "execution_count": null,
      "outputs": [
        {
          "output_type": "stream",
          "name": "stdout",
          "text": [
            "4 6\n"
          ]
        }
      ]
    },
    {
      "cell_type": "code",
      "source": [
        "# 11. Create a class Person with attributes name and age. Add a method greet() that prints \"Hello, my name is {name} and I am {age} years old.\"\n",
        "\n",
        "class Person:\n",
        "  def __init__(self, name, age):\n",
        "    self.name = name\n",
        "    self.age = age\n",
        "\n",
        "  def greet(self):\n",
        "    print(f\"Hello, my name is {self.name} and I am {self.age} years old.\")\n",
        "\n",
        "person = Person(\"John\", 25)\n",
        "person.greet()"
      ],
      "metadata": {
        "colab": {
          "base_uri": "https://localhost:8080/"
        },
        "id": "9SIJ9mYtYHeW",
        "outputId": "73a0ab87-dfe7-47a1-d317-90efdd25027f"
      },
      "execution_count": null,
      "outputs": [
        {
          "output_type": "stream",
          "name": "stdout",
          "text": [
            "Hello, my name is John and I am 25 years old.\n"
          ]
        }
      ]
    },
    {
      "cell_type": "code",
      "source": [
        "from typing_extensions import Self\n",
        "#12. Implement a class Student with attributes name and grades. Create a method average_grade() to compute the average of the grades.\n",
        "\n",
        "class Student:\n",
        "  def __init__(self, name, grades):\n",
        "    self.name = name\n",
        "    self.grades = grades\n",
        "\n",
        "  def average_grade(self):\n",
        "    return sum(self.grades) / 4\n",
        "\n",
        "student = Student(\"John\", [70, 70, 90, 40])\n",
        "print(student.average_grade())"
      ],
      "metadata": {
        "colab": {
          "base_uri": "https://localhost:8080/"
        },
        "id": "837w0tDKZC2Q",
        "outputId": "1bc86452-4950-4460-f889-26c9b5724c27"
      },
      "execution_count": null,
      "outputs": [
        {
          "output_type": "stream",
          "name": "stdout",
          "text": [
            "67.5\n"
          ]
        }
      ]
    },
    {
      "cell_type": "code",
      "source": [
        "# 13. Create a class Rectangle with methods set_dimensions() to set the dimensions and area() to calculate the area.\n",
        "\n",
        "class Rectangle:\n",
        "  def __init__(self, length, width):\n",
        "    self.length = length\n",
        "    self.width = width\n",
        "\n",
        "  def set_dimensions(self, length, width):\n",
        "    self.length = length\n",
        "    self.width = width\n",
        "\n",
        "  def area(self):\n",
        "    return self.length * self.width\n",
        "\n",
        "rect = Rectangle(5, 10)\n",
        "print(rect.area())"
      ],
      "metadata": {
        "colab": {
          "base_uri": "https://localhost:8080/"
        },
        "id": "jS_V7b6vZ0ix",
        "outputId": "5d54c9b1-ad7c-40ae-8af0-24002f66fff4"
      },
      "execution_count": null,
      "outputs": [
        {
          "output_type": "stream",
          "name": "stdout",
          "text": [
            "50\n"
          ]
        }
      ]
    },
    {
      "cell_type": "code",
      "source": [
        "# 14. Create a class Employee with a method calculate_salary() that computes the salary based on hours worked and hourly rate. Create a derived class Manager that adds a bonus to the salary.\n",
        "\n",
        "class Employee:\n",
        "  def __init__(self, name , hours_worked, hourly_rate):\n",
        "    self.hours_worked = hours_worked\n",
        "    self.hourly_rate = hourly_rate\n",
        "    self.name = name\n",
        "\n",
        "  def calculate_salary(self):\n",
        "    salary = self.hours_worked * self.hourly_rate\n",
        "    return salary\n",
        "class Manager(Employee):\n",
        "\n",
        "   def __init__(self, name, hours_worked, hourly_rate, bonus):\n",
        "     super().__init__(name, hours_worked, hourly_rate)\n",
        "     self.bonus = bonus\n",
        "   def calculate_salary(self):\n",
        "    return super().calculate_salary() + self.bonus\n",
        "\n",
        "\n",
        "\n",
        "salary = Employee(\"John\", 40, 10)\n",
        "bonus = Manager(\"Aman\" ,36 , 50000,5000)\n",
        "print(salary.calculate_salary())\n",
        "print(bonus.calculate_salary())\n"
      ],
      "metadata": {
        "colab": {
          "base_uri": "https://localhost:8080/"
        },
        "id": "Kj50vdOna-YD",
        "outputId": "884ed46f-194b-4aaf-c24e-41c5ed3d8620"
      },
      "execution_count": 4,
      "outputs": [
        {
          "output_type": "stream",
          "name": "stdout",
          "text": [
            "400\n",
            "1805000\n"
          ]
        }
      ]
    },
    {
      "cell_type": "code",
      "source": [
        "#15. 15. Create a class Product with attributes name, price, and quantity. Implement a method total_price() that calculates the total price of the product.\n",
        "class Product:\n",
        "  def __init__(self, name, price,quantity):\n",
        "    self.name = name\n",
        "    self.price = price\n",
        "    self.quantity = quantity\n",
        "  def total_price(self):\n",
        "    total_price = self.price * self.quantity\n",
        "    print(f'{self.quantity} {self.name} is of rupess {total_price}')\n",
        "    return total_price\n",
        "product = Product(\"Apple\", 100, 5)\n",
        "print(product.total_price())"
      ],
      "metadata": {
        "id": "85PII-NRcO_E",
        "colab": {
          "base_uri": "https://localhost:8080/"
        },
        "outputId": "0123c174-5ff5-41d6-8181-a8249a3ce133"
      },
      "execution_count": 16,
      "outputs": [
        {
          "output_type": "stream",
          "name": "stdout",
          "text": [
            "5 Apple is of rupess 500\n",
            "500\n"
          ]
        }
      ]
    },
    {
      "cell_type": "code",
      "source": [
        "# 16. 16. Create a class Animal with an abstract method sound(). Create two derived classes Cow and Sheep that implement the sound() method.\n",
        "\n",
        "class Animal:\n",
        "  def sound(self):\n",
        "    pass\n",
        "\n",
        "class Cow(Animal):\n",
        "  def sound(self):\n",
        "    print(\"Moo\")\n",
        "\n",
        "class Sheep(Animal):\n",
        "  def sound(self):\n",
        "    print(\"Baa\")\n",
        "\n",
        "cow = Cow()\n",
        "sheep = Sheep()\n",
        "\n",
        "cow.sound()\n",
        "sheep.sound()"
      ],
      "metadata": {
        "colab": {
          "base_uri": "https://localhost:8080/"
        },
        "id": "4ZUBjffqDDUm",
        "outputId": "f20f571b-4c3d-41a1-8d8d-bd5b449f7cef"
      },
      "execution_count": 44,
      "outputs": [
        {
          "output_type": "stream",
          "name": "stdout",
          "text": [
            "Moo\n",
            "Baa\n"
          ]
        }
      ]
    },
    {
      "cell_type": "code",
      "source": [
        "# 17. Create a class Book with attributes title, author, and year_published. Add a method get_book_info() that returns a formatted string with the book's details.\n",
        "\n",
        "class Book:\n",
        "  def __init__(self, title, author, year_published):\n",
        "    self.title = title\n",
        "    self.author = author\n",
        "    self.year_published = year_published\n",
        "  def get_book_info(self):\n",
        "    return f\"{self.title} by {self.author} published in {self.year_published}\"\n",
        "\n",
        "book = Book(\"The Alchemist\", \"Paulo Coelho\", 1988)\n",
        "print(book.get_book_info())"
      ],
      "metadata": {
        "colab": {
          "base_uri": "https://localhost:8080/"
        },
        "id": "5ngBH5SDEagH",
        "outputId": "50092481-66f9-44f0-e000-3ee6dffa337f"
      },
      "execution_count": 46,
      "outputs": [
        {
          "output_type": "stream",
          "name": "stdout",
          "text": [
            "The Alchemist by Paulo Coelho published in 1988\n"
          ]
        }
      ]
    },
    {
      "cell_type": "code",
      "source": [
        "# 18. Create a class House with attributes address and price. Create a derived class Mansion that adds an attribute number_of_rooms.\n",
        "\n",
        "class House:\n",
        "  def __init__(self, address, price):\n",
        "    self.address = address\n",
        "    self.price = price\n",
        "\n",
        "class Mansion(House):\n",
        "  def __init__(self, address, price, number_of_rooms):\n",
        "    super().__init__(address, price)\n",
        "    self.number_of_rooms = number_of_rooms\n",
        "\n",
        "house = House(\"123 Main St\", 200000)\n",
        "mansion = Mansion(\"456 Elm St\", 500000, 8)\n",
        "print(house.address)\n",
        "print(mansion.address)"
      ],
      "metadata": {
        "colab": {
          "base_uri": "https://localhost:8080/"
        },
        "id": "j2OpLN72ICZd",
        "outputId": "9c476015-ad07-4152-c76c-7667e92a3a86"
      },
      "execution_count": 48,
      "outputs": [
        {
          "output_type": "stream",
          "name": "stdout",
          "text": [
            "123 Main St\n",
            "456 Elm St\n"
          ]
        }
      ]
    },
    {
      "cell_type": "code",
      "source": [],
      "metadata": {
        "id": "COQlMUUCIUJt"
      },
      "execution_count": null,
      "outputs": []
    }
  ]
}