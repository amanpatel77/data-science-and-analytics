{
  "nbformat": 4,
  "nbformat_minor": 0,
  "metadata": {
    "colab": {
      "provenance": []
    },
    "kernelspec": {
      "name": "python3",
      "display_name": "Python 3"
    },
    "language_info": {
      "name": "python"
    }
  },
  "cells": [
    {
      "cell_type": "markdown",
      "source": [
        "**1)What is Python, and why is it popular?**\n",
        "\n",
        "   - Python is a programming language that is known for its readability and easy to use\n",
        "   - python is popular because it is easy to use , versatile and it has massive libraries & frame work.\n",
        "\n",
        "**2)What is an interpreter in Python?**\n",
        "   - Interpreter is a program that that reads and executes the python code line by line . Translating it into machine readable bytecode.\n",
        "\n",
        "**3)What are pre-defined keywords in Python?**\n",
        "   - Pre-defined keywords are reserved words that has special meaning and cannot be used to as an identifier. e.g if , else , while , etc\n",
        "    \n",
        "**4) Can keywords be used as variable names?**\n",
        "   - No ,keywords cannot be used as variable names\n",
        "\n",
        "**5) What is mutability in Python?**\n",
        "   - Mutability is we can change things in obeject. e.g. list & dictionary\n",
        "\n",
        "**6) Why are lists mutable, but tuples are immutable?**\n",
        "   - Lists are mutable because we can modify list . Whereas we cannot modify tuples thus tuples are immutable\n",
        "\n",
        "**7)What is the difference between “==” and “is” operators in Python?**\n",
        "   - == operator checks if the value is same or not , if the vaue is same then it will show TRUE & if the value is not same then it will show FALSE.\n",
        "   - a = [1, 2, 3]\n",
        "   - b = [1, 2, 3]\n",
        "   - print(a == b)  # True\n",
        "    \n",
        "   - whereas \"is\" operator check if the variable are in the same object memory or not . even if the varibale value is same and object memory is\n",
        "  -  different then it will execute FALSE.\n",
        "  -  a = [1, 2, 3]\n",
        "  -  b = [1, 2, 3]\n",
        "  -  print(a is b)  # False\n",
        "   - print(a is c)  # True\n",
        "\n",
        "**8)What are logical operators in Python?**\n",
        "   - Logical operator in python are use to combine the conditional statements and controls the flow of your code based on TRUE or FALSE values.\n",
        "   - eg, AND , OR & NOT .\n",
        "\n",
        "**9)What is type casting in Python?**\n",
        "  -  Type casting is changine the type of the data. conversion of data type. eg string to int , int to float.\n",
        "\n",
        "**10)What is the difference between implicit and explicit type casting?**\n",
        "  -  Implicit type casting is , Python automatically converts one type of data into another one .\n",
        " -   eg. a= 2\n",
        "    -    b=2.5\n",
        "   -     c=a+b\n",
        "     -   print (c)\n",
        "   -     5.5\n",
        "   - Explicit type casting is , When you manually converts one type of data into another one using built in functions like int, str,etc.\n",
        "\n",
        "**11)What is the purpose of conditional statements in Python?**\n",
        "   - Conditional statements is used for checking the conditional and if the condition meets then execute some things .\n",
        "  -  age = 18\n",
        "   - if age >= 18:\n",
        "    -    print(\"You're an adult!\")\n",
        "   - else:\n",
        "    -    print(\"You're a minor.\")\n",
        "    \n",
        "**12)How does the elif statement work?**\n",
        "   - elif statement is nothing but \"elseif\" . It is used to check multiple condition and executes the very first condition that is true.\n",
        "   - num = 10\n",
        "   - if num > 5:\n",
        "  -      print(\"Greater than 5\")\n",
        "   - elif num > 2:\n",
        "    -    print(\"Greater than 2\")\n",
        "   - else:\n",
        "    -    print(\"Smaller than or equal to 2\")\n",
        "   - # Output: \"Greater than 5\" (it skips the rest)\n",
        "\n",
        "**13)What is the difference between for and while loops?**\n",
        "  -  for Loop is used when you are itterating over a sequence of statement .\n",
        "   - while loop is used when you want to execute a loop till the condition is true , it stops when the condition is false.\n",
        "\n",
        "**14)Describe a scenario where a while loop is more suitable than a for loop.**\n",
        "  -  Imagine you’re building an ATM system where a user can keep withdrawing money until their balance runs out. In this scenario you don't know how\n",
        "    many times they will withdraw money that's why while loop is more suitable for this."
      ],
      "metadata": {
        "id": "fsgTq7XsRvd9"
      }
    },
    {
      "cell_type": "code",
      "execution_count": null,
      "metadata": {
        "colab": {
          "base_uri": "https://localhost:8080/"
        },
        "id": "nC7P1ubzRr6r",
        "outputId": "f83eb1a0-a948-4ff3-c060-7aed6c073f44"
      },
      "outputs": [
        {
          "output_type": "stream",
          "name": "stdout",
          "text": [
            "Hello, World!\n"
          ]
        }
      ],
      "source": [
        "# 1 Write a Python program to print \"Hello, World!\n",
        "\n",
        "print (\"Hello, World!\")"
      ]
    },
    {
      "cell_type": "code",
      "source": [
        "# 2 Write a Python program that displays your name and age\n",
        "name = \"Aman\"\n",
        "age = 24\n",
        "print(f\"My name is {name} and my age is {age}\")"
      ],
      "metadata": {
        "colab": {
          "base_uri": "https://localhost:8080/"
        },
        "id": "Bj7p-NRKTbOX",
        "outputId": "8c86032c-bc99-4cde-bb8b-8117c7ffae72"
      },
      "execution_count": null,
      "outputs": [
        {
          "output_type": "stream",
          "name": "stdout",
          "text": [
            "My name is Aman and my age is 24\n"
          ]
        }
      ]
    },
    {
      "cell_type": "code",
      "source": [
        "# 4 Write a program that checks if a given word is a Python keyword?\n",
        "import keyword\n",
        "\n",
        "word = input(\"Enter a word: \")\n",
        "\n",
        "if keyword.iskeyword(word):\n",
        "  print ( \"it is a keyword\")\n",
        "else:\n",
        "  print (\"it is not a keyword\")\n"
      ],
      "metadata": {
        "colab": {
          "base_uri": "https://localhost:8080/"
        },
        "id": "K57mM6ugUpiv",
        "outputId": "4bf6dd8d-e686-4a12-f0a0-38976b97fdf9"
      },
      "execution_count": null,
      "outputs": [
        {
          "output_type": "stream",
          "name": "stdout",
          "text": [
            "Enter a word: if\n",
            "it is a keyword\n"
          ]
        }
      ]
    },
    {
      "cell_type": "code",
      "source": [
        "# 5 Create a list and tuple in Python, and demonstrate how attempting to change an element works differently for each.\n",
        "\n",
        "lst = [1,2,3,4,5]\n",
        "tpl = (1,2,3,4,5)\n",
        "print(\"This is list\" , lst)\n",
        "print(\"This is Tuple\" ,tpl)\n",
        "lst[4]=100\n",
        "print(lst)\n",
        "tpl[0]= 100\n"
      ],
      "metadata": {
        "colab": {
          "base_uri": "https://localhost:8080/",
          "height": 228
        },
        "id": "8f174bY8VfmL",
        "outputId": "671b5c39-eb58-4509-91ca-95d9e34c717f"
      },
      "execution_count": null,
      "outputs": [
        {
          "output_type": "stream",
          "name": "stdout",
          "text": [
            "This is list [1, 2, 3, 4, 5]\n",
            "This is Tuple (1, 2, 3, 4, 5)\n",
            "[1, 2, 3, 4, 100]\n"
          ]
        },
        {
          "output_type": "error",
          "ename": "TypeError",
          "evalue": "'tuple' object does not support item assignment",
          "traceback": [
            "\u001b[0;31m---------------------------------------------------------------------------\u001b[0m",
            "\u001b[0;31mTypeError\u001b[0m                                 Traceback (most recent call last)",
            "\u001b[0;32m<ipython-input-4-41f593b5d2fa>\u001b[0m in \u001b[0;36m<cell line: 0>\u001b[0;34m()\u001b[0m\n\u001b[1;32m      7\u001b[0m \u001b[0mlst\u001b[0m\u001b[0;34m[\u001b[0m\u001b[0;36m4\u001b[0m\u001b[0;34m]\u001b[0m\u001b[0;34m=\u001b[0m\u001b[0;36m100\u001b[0m\u001b[0;34m\u001b[0m\u001b[0;34m\u001b[0m\u001b[0m\n\u001b[1;32m      8\u001b[0m \u001b[0mprint\u001b[0m\u001b[0;34m(\u001b[0m\u001b[0mlst\u001b[0m\u001b[0;34m)\u001b[0m\u001b[0;34m\u001b[0m\u001b[0;34m\u001b[0m\u001b[0m\n\u001b[0;32m----> 9\u001b[0;31m \u001b[0mtpl\u001b[0m\u001b[0;34m[\u001b[0m\u001b[0;36m0\u001b[0m\u001b[0;34m]\u001b[0m\u001b[0;34m=\u001b[0m \u001b[0;36m100\u001b[0m\u001b[0;34m\u001b[0m\u001b[0;34m\u001b[0m\u001b[0m\n\u001b[0m",
            "\u001b[0;31mTypeError\u001b[0m: 'tuple' object does not support item assignment"
          ]
        }
      ]
    },
    {
      "cell_type": "code",
      "source": [
        "# 6) Write a function to demonstrate the behavior of mutable and immutable arguments.\n",
        "lst = [1,2,3,4,5]\n",
        "tpl = (1,2,3,4,5)\n",
        "print(\"This is list\" , lst)\n",
        "print(\"This is Tuple\" ,tpl)\n",
        "lst[4]=100\n",
        "print(lst)\n",
        "tpl[0]= 100"
      ],
      "metadata": {
        "colab": {
          "base_uri": "https://localhost:8080/",
          "height": 228
        },
        "id": "sE69OXfUWe-u",
        "outputId": "52caf8fc-f473-474c-ec3d-08a0b1b4581e"
      },
      "execution_count": null,
      "outputs": [
        {
          "output_type": "stream",
          "name": "stdout",
          "text": [
            "This is list [1, 2, 3, 4, 5]\n",
            "This is Tuple (1, 2, 3, 4, 5)\n",
            "[1, 2, 3, 4, 100]\n"
          ]
        },
        {
          "output_type": "error",
          "ename": "TypeError",
          "evalue": "'tuple' object does not support item assignment",
          "traceback": [
            "\u001b[0;31m---------------------------------------------------------------------------\u001b[0m",
            "\u001b[0;31mTypeError\u001b[0m                                 Traceback (most recent call last)",
            "\u001b[0;32m<ipython-input-5-a1bb069e5133>\u001b[0m in \u001b[0;36m<cell line: 0>\u001b[0;34m()\u001b[0m\n\u001b[1;32m      6\u001b[0m \u001b[0mlst\u001b[0m\u001b[0;34m[\u001b[0m\u001b[0;36m4\u001b[0m\u001b[0;34m]\u001b[0m\u001b[0;34m=\u001b[0m\u001b[0;36m100\u001b[0m\u001b[0;34m\u001b[0m\u001b[0;34m\u001b[0m\u001b[0m\n\u001b[1;32m      7\u001b[0m \u001b[0mprint\u001b[0m\u001b[0;34m(\u001b[0m\u001b[0mlst\u001b[0m\u001b[0;34m)\u001b[0m\u001b[0;34m\u001b[0m\u001b[0;34m\u001b[0m\u001b[0m\n\u001b[0;32m----> 8\u001b[0;31m \u001b[0mtpl\u001b[0m\u001b[0;34m[\u001b[0m\u001b[0;36m0\u001b[0m\u001b[0;34m]\u001b[0m\u001b[0;34m=\u001b[0m \u001b[0;36m100\u001b[0m\u001b[0;34m\u001b[0m\u001b[0;34m\u001b[0m\u001b[0m\n\u001b[0m",
            "\u001b[0;31mTypeError\u001b[0m: 'tuple' object does not support item assignment"
          ]
        }
      ]
    },
    {
      "cell_type": "code",
      "source": [
        "# 7) Write a function to demonstrate the behavior of mutable and immutable arguments.\n",
        "lst = [1,2,3,4,5]\n",
        "tpl = (1,2,3,4,5)\n",
        "print(\"This is list\" , lst)\n",
        "print(\"This is Tuple\" ,tpl)\n",
        "lst[4]=100\n",
        "print(lst)\n",
        "tpl[0]= 100"
      ],
      "metadata": {
        "colab": {
          "base_uri": "https://localhost:8080/",
          "height": 228
        },
        "id": "LdajpSF3XGfI",
        "outputId": "3da9e47c-ce9b-4aa9-ef95-c5053d464650"
      },
      "execution_count": null,
      "outputs": [
        {
          "output_type": "stream",
          "name": "stdout",
          "text": [
            "This is list [1, 2, 3, 4, 5]\n",
            "This is Tuple (1, 2, 3, 4, 5)\n",
            "[1, 2, 3, 4, 100]\n"
          ]
        },
        {
          "output_type": "error",
          "ename": "TypeError",
          "evalue": "'tuple' object does not support item assignment",
          "traceback": [
            "\u001b[0;31m---------------------------------------------------------------------------\u001b[0m",
            "\u001b[0;31mTypeError\u001b[0m                                 Traceback (most recent call last)",
            "\u001b[0;32m<ipython-input-6-ec27f76f414e>\u001b[0m in \u001b[0;36m<cell line: 0>\u001b[0;34m()\u001b[0m\n\u001b[1;32m      6\u001b[0m \u001b[0mlst\u001b[0m\u001b[0;34m[\u001b[0m\u001b[0;36m4\u001b[0m\u001b[0;34m]\u001b[0m\u001b[0;34m=\u001b[0m\u001b[0;36m100\u001b[0m\u001b[0;34m\u001b[0m\u001b[0;34m\u001b[0m\u001b[0m\n\u001b[1;32m      7\u001b[0m \u001b[0mprint\u001b[0m\u001b[0;34m(\u001b[0m\u001b[0mlst\u001b[0m\u001b[0;34m)\u001b[0m\u001b[0;34m\u001b[0m\u001b[0;34m\u001b[0m\u001b[0m\n\u001b[0;32m----> 8\u001b[0;31m \u001b[0mtpl\u001b[0m\u001b[0;34m[\u001b[0m\u001b[0;36m0\u001b[0m\u001b[0;34m]\u001b[0m\u001b[0;34m=\u001b[0m \u001b[0;36m100\u001b[0m\u001b[0;34m\u001b[0m\u001b[0;34m\u001b[0m\u001b[0m\n\u001b[0m",
            "\u001b[0;31mTypeError\u001b[0m: 'tuple' object does not support item assignment"
          ]
        }
      ]
    },
    {
      "cell_type": "code",
      "source": [
        "# 8 Write a program to demonstrate the use of logical operators.\n",
        "age = 17\n",
        "Nationality = (\"indian\")\n",
        "if age >= 18 and Nationality == \"indian\" :\n",
        "  print(\"Eligible\")\n",
        "else:\n",
        "  print(\"not eligible\")\n",
        "#OR\n",
        "if age< 18 or Nationality != \"indian\" :\n",
        "  print (\"you are minor or you might want to get indian citizenship\")\n",
        "#NOT\n",
        "if not age>= 18:\n",
        "  print(\"you are minor\")"
      ],
      "metadata": {
        "colab": {
          "base_uri": "https://localhost:8080/"
        },
        "id": "IitmCBUZXcsV",
        "outputId": "06f848e4-7a8e-43ea-f457-8170aa150f92"
      },
      "execution_count": null,
      "outputs": [
        {
          "output_type": "stream",
          "name": "stdout",
          "text": [
            "not eligible\n",
            "you are minor or you might want to get indian citizenship\n",
            "you are minor\n"
          ]
        }
      ]
    },
    {
      "cell_type": "code",
      "source": [
        "#Write a Python program to convert user input from string to integer, float, and boolean types.\n",
        "Age = input(\"write your age only in numbers \")\n",
        "print(type(Age))\n",
        "\n",
        "#integer\n",
        "Inte = int(Age)\n",
        "print(Inte)\n",
        "print(type(Inte))\n",
        "\n",
        "#float\n",
        "f = float(Age)\n",
        "print(f)\n",
        "print(type(f))\n",
        "\n",
        "#Boolean\n",
        "bo = bool(Age)\n",
        "print(bo)\n",
        "print(type(bo))"
      ],
      "metadata": {
        "id": "oTdNscqoYKMq",
        "colab": {
          "base_uri": "https://localhost:8080/"
        },
        "outputId": "59d07877-0195-4864-fcc6-53c91bf4f67f"
      },
      "execution_count": null,
      "outputs": [
        {
          "output_type": "stream",
          "name": "stdout",
          "text": [
            "write your age only in numbers12\n",
            "<class 'str'>\n",
            "12\n",
            "<class 'int'>\n",
            "12.0\n",
            "<class 'float'>\n",
            "True\n",
            "<class 'bool'>\n"
          ]
        }
      ]
    },
    {
      "cell_type": "code",
      "source": [
        "#10) Write code to demonstrate type casting with list elements.\n",
        "a = [10,20,30,40]\n",
        "print(a)\n",
        "inta = [int(item) for item in a]\n",
        "print(\"integer conversion of list\" , inta)\n",
        "flta = [float(item) for item in a]\n",
        "print(\"Float conversion of list\" , flta)\n",
        "stra = [str(item) for item in a]\n",
        "print(\"String conversion of list\" , stra)"
      ],
      "metadata": {
        "colab": {
          "base_uri": "https://localhost:8080/"
        },
        "id": "IyBTAtiitnPt",
        "outputId": "9360a9df-effa-4bdf-cc2e-a079c9e62c93"
      },
      "execution_count": null,
      "outputs": [
        {
          "output_type": "stream",
          "name": "stdout",
          "text": [
            "[10, 20, 30, 40]\n",
            "integer conversion of list [10, 20, 30, 40]\n",
            "Float conversion of list [10.0, 20.0, 30.0, 40.0]\n",
            "String conversion of list ['10', '20', '30', '40']\n"
          ]
        }
      ]
    },
    {
      "cell_type": "code",
      "source": [
        "from google.colab import drive\n",
        "drive.mount('/content/drive')"
      ],
      "metadata": {
        "id": "--4e74QR8daN"
      },
      "execution_count": null,
      "outputs": []
    },
    {
      "cell_type": "code",
      "source": [],
      "metadata": {
        "id": "8-HNBa529OTD"
      },
      "execution_count": null,
      "outputs": []
    },
    {
      "cell_type": "markdown",
      "source": [],
      "metadata": {
        "id": "ID5fUijrw5rY"
      }
    },
    {
      "cell_type": "code",
      "source": [
        "#11) Write a program that checks if a number is positive, negative, or zero.\n",
        "no = int(input(\"Enter any number \"))\n",
        "if no> 0:\n",
        "  print(\"Number is positive\",no)\n",
        "elif no< 0:\n",
        "  print(\"Number is negative\", no)\n",
        "else :\n",
        "  print(\"Number is zero\", no)"
      ],
      "metadata": {
        "colab": {
          "base_uri": "https://localhost:8080/"
        },
        "id": "9hyt2x6Zva4f",
        "outputId": "5d04a17d-31c8-4aa1-e803-957d7557acb5"
      },
      "execution_count": null,
      "outputs": [
        {
          "output_type": "stream",
          "name": "stdout",
          "text": [
            "Enter any number -12\n",
            "Number is negative -12\n"
          ]
        }
      ]
    },
    {
      "cell_type": "code",
      "source": [
        "#12) Write a for loop to print numbers from 1 to 10.\n",
        "\n",
        "for i in range (1,11):\n",
        "  print(i)"
      ],
      "metadata": {
        "colab": {
          "base_uri": "https://localhost:8080/"
        },
        "id": "kxCY1Dr-w84o",
        "outputId": "492b164f-951d-480b-b1df-8dcb17dd9879"
      },
      "execution_count": null,
      "outputs": [
        {
          "output_type": "stream",
          "name": "stdout",
          "text": [
            "1\n",
            "2\n",
            "3\n",
            "4\n",
            "5\n",
            "6\n",
            "7\n",
            "8\n",
            "9\n",
            "10\n"
          ]
        }
      ]
    },
    {
      "cell_type": "code",
      "source": [
        "#13)  Write a Python program to find the sum of all even numbers between 1 and 500.\n",
        "sum = 0\n",
        "for i in range(1,501):\n",
        "  if i % 2 ==0:\n",
        "    sum += i\n",
        "print(sum)\n"
      ],
      "metadata": {
        "colab": {
          "base_uri": "https://localhost:8080/"
        },
        "id": "VyQskHAIx7Wa",
        "outputId": "c194b68e-3379-4101-b8b1-b1f7c4fad105"
      },
      "execution_count": null,
      "outputs": [
        {
          "output_type": "stream",
          "name": "stdout",
          "text": [
            "62750\n"
          ]
        }
      ]
    },
    {
      "cell_type": "code",
      "source": [
        "# 14) Write a program to reverse a string using a while loop.\n",
        "name = (\"aman\")\n",
        "rev = (\"\")\n",
        "i = len(name) -1\n",
        "while i >=0:\n",
        "  rev= rev + name[i]\n",
        "  i-=1\n",
        "print (rev)"
      ],
      "metadata": {
        "id": "o2IeCrP42XPB",
        "outputId": "0b41ca92-c4e9-4ea0-a45c-b8bc3a0ed56b",
        "colab": {
          "base_uri": "https://localhost:8080/"
        }
      },
      "execution_count": null,
      "outputs": [
        {
          "output_type": "stream",
          "name": "stdout",
          "text": [
            "nama\n"
          ]
        }
      ]
    },
    {
      "cell_type": "code",
      "source": [
        "#15) Write a Python program to calculate the factorial of a number provided by the user using a while loop.\n",
        "no = int(input(\"Enter any number\"))\n",
        "fact = 1\n",
        "i = no\n",
        "while i >0:\n",
        "  fact = fact * i\n",
        "  i-=1\n",
        "  print (fact)"
      ],
      "metadata": {
        "id": "GZJVDQSX5Gc0",
        "colab": {
          "base_uri": "https://localhost:8080/"
        },
        "outputId": "220887af-0244-4b38-b1ff-587aa75f3ec2"
      },
      "execution_count": null,
      "outputs": [
        {
          "output_type": "stream",
          "name": "stdout",
          "text": [
            "Enter any number12\n",
            "12\n",
            "132\n",
            "1320\n",
            "11880\n",
            "95040\n",
            "665280\n",
            "3991680\n",
            "19958400\n",
            "79833600\n",
            "239500800\n",
            "479001600\n",
            "479001600\n"
          ]
        }
      ]
    },
    {
      "cell_type": "code",
      "source": [],
      "metadata": {
        "id": "4041LQ2E5G8e"
      },
      "execution_count": null,
      "outputs": []
    }
  ]
}