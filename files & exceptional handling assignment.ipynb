{
  "nbformat": 4,
  "nbformat_minor": 0,
  "metadata": {
    "colab": {
      "provenance": []
    },
    "kernelspec": {
      "name": "python3",
      "display_name": "Python 3"
    },
    "language_info": {
      "name": "python"
    }
  },
  "cells": [
    {
      "cell_type": "markdown",
      "source": [
        "\n",
        "#1 What is the difference between interpreted and compiled languages?**\n",
        "\n",
        "  - Compiled Language.\n",
        "    - The code is translated entirely into machine code (binary) by a compiler before it’s run.\n",
        "    - Examples: C, C++, Rust, Go\n",
        "  -Interpreted language\n",
        "    - The code is executed line-by-line by an interpreter at runtime.\n",
        "    - Examples: Python\n",
        "\n",
        "# 2 What is exception handling in Python?\n",
        "\n",
        "  - Exception handling in Python is a way to deal with errors or unexpected situations that might occur while your program is running — without crashing the whole program.\n",
        "\n",
        "# 3 What is the purpose of the finally block in exception handling?\n",
        "\n",
        "  - It ensures that certain code always runs, whether an exception was raised or not, an exception was handled or not.\n",
        "\n",
        "#4 What is logging in Python?\n",
        "\n",
        "  - Logging in Python is like your program keeping a diary or activity log — it records important events, errors, or status updates while the code runs. Super handy for debugging, monitoring, or understanding what happened and when.\n",
        "\n",
        "# 5 What is the significance of the __del__ method in Python?\n",
        "\n",
        "  - __del__ is a special method in Python that gets called when an object is about to be destroyed (i.e., when it’s being garbage collected).\n",
        "\n",
        "# 6 What is the difference between import and from ... import in Python?\n",
        "\n",
        "  - import : You're bringing in the whole module, for eg like grabbing the entire toolbox.\n",
        "  - from ... import : You bring in just what you need, for eg ,like grabbing one tool from the box.\n",
        "\n",
        "# 7 How can you handle multiple exceptions in Python?\n",
        "\n",
        "  - Use multiple except blocks to catch each exception type individually.\n",
        "  - eg :\n",
        "  try:\n",
        "      x = int(input(\"Enter a number: \"))\n",
        "      result = 10 / x\n",
        "  except ValueError:\n",
        "    print(\"That's not a valid number.\")\n",
        "  except ZeroDivisionError:\n",
        "    print(\"You can't divide by zero!\")\n",
        "\n",
        "  - Handle Multiple Exceptions with One Block\n",
        "  - Group them in a tuple if they’re handled the same way.\n",
        "  - eg\n",
        "  try:\n",
        "    x = int(input(\"Enter a number: \"))\n",
        "    result = 10 / x\n",
        "  except (ValueError, ZeroDivisionError):\n",
        "    print(\"Oops! Invalid input or divide by zero.\")\n",
        "\n",
        "# 8 What is the purpose of the with statement when handling files in Python?\n",
        "\n",
        "  - It automatically manages resources for you — especially opening and closing files — so you don’t have to worry about it.\n",
        "\n",
        "# 9 What is the difference between multithreading and multiprocessing?\n",
        "\n",
        "  - Uses\n",
        "    - Multithreading: Single CPU core (usually)\n",
        "    - Multiprocessing: Multiple CPU cores\n",
        "  - Best for\n",
        "    - Multithreading: I/O-bound tasks\n",
        "    - Multiprocessing: CPU-bound tasks\n",
        "  - Memory\n",
        "    - Multithreading: Shared memory\n",
        "    - Multiprocessing: Separate memory space\n",
        "  - GIL (Global Interpreter Lock)\n",
        "    - Multithreading: Affected by GIL (limits true parallelism)\n",
        "    - Multiprocessing: Bypasses GIL\n",
        "\n",
        "# 10 What are the advantages of using logging in a program?\n",
        "\n",
        "  - Tracks events and errors\n",
        "  - Helps in debugging\n",
        "  - Stores history of execution\n",
        "  - Works better than print() in production\n",
        "  - Supports logging to files, console, etc.\n",
        "\n",
        "# 11 What is memory management in Python?\n",
        "\n",
        "  - Python handles memory using:\n",
        "  - Reference counting\n",
        "  - Garbage collection\n",
        "  - Memory pooling\n",
        "\n",
        "# 12 What are the basic steps involved in exception handling in Python?\n",
        "\n",
        "  - Wrap risky code in a try block\n",
        "  - Catch errors using except\n",
        "  - Optionally use else (if no exception)\n",
        "  - Use finally to clean up\n",
        "\n",
        "# 13 Why is memory management important in Python?\n",
        "\n",
        "  - Prevents memory leaks\n",
        "  - Ensures efficient use of system resources\n",
        "  - Keeps programs from crashing or slowing down\n",
        "\n",
        "# 14 What is the role of try and except in exception handling?\n",
        "\n",
        "  - try: Run code that might fail\n",
        "  - except: Catch and handle the error if it occurs\n",
        "\n",
        "# 15 How does Python's garbage collection system work?\n",
        "\n",
        "  - Python uses reference counting\n",
        "  - If no references = object is deleted\n",
        "  - gc module handles cyclic references (e.g., lists that refer to each other)\n",
        "\n",
        "# 16 What is the purpose of the else block in exception handling?\n",
        "\n",
        "  - Runs only if no exception occurred in the try block\n",
        "  - Good for code that should only run if everything went smoothly\n",
        "\n",
        "# 17 What are the common logging levels in Python?\n",
        "  \n",
        "  - DEBUG\n",
        "  - INFO\n",
        "  - WARNING\n",
        "  - ERROR\n",
        "  - CRITICAL\n",
        "\n",
        "# 18 What is the difference between os.fork() and multiprocessing in Python?\n",
        "\n",
        "  - os.fork(): Creates a child process by duplicating the parent process. Works only on Unix-based systems and shares memory between parent and child\n",
        "  - multiprocessing: Provides a high-level API to create independent processes with separate memory. Works across platforms (Windows, Linux, macOS) and supports true parallelism.\n",
        "\n",
        "# 19 What is the importance of closing a file in Python?\n",
        "\n",
        "  - Frees system resources\n",
        "  - Ensures data is written properly\n",
        "  - Prevents file corruption or locking issues\n",
        "\n",
        "# 20 What is the difference between file.read() and file.readline() in Python?\n",
        "  \n",
        "  - read()\tReads the entire file as a string\n",
        "  - readline()\tReads one line at a time\n",
        "\n",
        "# 21 What is the logging module in Python used for?\n",
        "\n",
        "  - Logs messages from your program\n",
        "  - Helps track bugs, status updates, and warnings\n",
        "  - Can log to files, streams, or external systems\n",
        "\n",
        "# 22 What is the os module in Python used for in file handling?\n",
        "\n",
        "  - The os module in Python provides functions to interact with the operating system, and when it comes to file handling, it offers tools to work with file paths and manage files.\n",
        "\n",
        "# 23 What are the challenges associated with memory management in Python?\n",
        "\n",
        "  - Circular references\n",
        "  - Hidden memory leaks (especially with large objects or third-party libs)\n",
        "  - GIL limiting performance in multithreaded programs\n",
        "\n",
        "# 24 How do you raise an exception manually in Python?\n",
        "\n",
        "  - To raise an exception manually in Python, you can use the raise keyword followed by the exception type\n",
        "  - raise ValueError(\"This is a custom error!\")\n",
        "\n",
        "# 25 Why is it important to use multithreading in certain applications?\n",
        "\n",
        "  - Great for I/O-bound tasks (e.g., downloading files, API calls)\n",
        "  - Helps keep apps responsive (like GUIs)\n",
        "  - Allows running multiple tasks seemingly at once\n"
      ],
      "metadata": {
        "id": "JCzRxTuvtoXq"
      }
    },
    {
      "cell_type": "code",
      "source": [
        "# 1 How can you open a file for writing in Python and write a string to it?\n",
        "\n",
        "file = open(\"example.txt\", \"w\")\n",
        "file.write(\"\"\"Hello, World!\n",
        "Octopuses have three hearts\n",
        "Two pump blood to the gills, while the third pumps it to the rest of the body.\"\"\")\n",
        "file.close()\n",
        "print(\"File written successfully.\")"
      ],
      "metadata": {
        "colab": {
          "base_uri": "https://localhost:8080/"
        },
        "id": "unRNyYVO1Pq_",
        "outputId": "f3476eba-e2a1-4346-c49c-9a539ce4d4cc"
      },
      "execution_count": 13,
      "outputs": [
        {
          "output_type": "stream",
          "name": "stdout",
          "text": [
            "File written successfully.\n"
          ]
        }
      ]
    },
    {
      "cell_type": "code",
      "source": [
        "# 2 Write a Python program to read the contents of a file and print each line.\n",
        "\n",
        "file = open(\"example.txt\", \"r\")\n",
        "lines = file.readlines()\n",
        "for line in lines:\n",
        "    print(line.strip())\n",
        "file.close()"
      ],
      "metadata": {
        "colab": {
          "base_uri": "https://localhost:8080/"
        },
        "id": "dGPYBR9X1dKG",
        "outputId": "63194dce-8298-4488-dc63-09ffd6642c06"
      },
      "execution_count": 3,
      "outputs": [
        {
          "output_type": "stream",
          "name": "stdout",
          "text": [
            "Hello, World!\n"
          ]
        }
      ]
    },
    {
      "cell_type": "code",
      "source": [
        "# 3 How would you handle a case where the file doesn't exist while trying to open it for reading.\n",
        "\n",
        "try:\n",
        "  file = open(\"nonexistent.txt\", \"r\")\n",
        "  file.read()\n",
        "except:\n",
        "  print(\"file not found\")"
      ],
      "metadata": {
        "colab": {
          "base_uri": "https://localhost:8080/"
        },
        "id": "Js7g2sXR1pg0",
        "outputId": "6583db81-53dc-4e1d-e3bd-4afb6ddd6a48"
      },
      "execution_count": 5,
      "outputs": [
        {
          "output_type": "stream",
          "name": "stdout",
          "text": [
            "file not found\n"
          ]
        }
      ]
    },
    {
      "cell_type": "code",
      "source": [
        "# 4 Write a Python script that reads from one file and writes its content to another file.\n",
        "\n",
        "file1 = open(\"example.txt\", \"r\")\n",
        "file2 = open(\"file2.txt\", \"w\")\n",
        "content = file1.read()\n",
        "file2.write(content)\n",
        "file1.close()\n",
        "file2.close()\n"
      ],
      "metadata": {
        "colab": {
          "base_uri": "https://localhost:8080/"
        },
        "id": "4vQU5WrD2GJc",
        "outputId": "7c56b552-f21e-4dce-a5ab-d50c19675eca"
      },
      "execution_count": 7,
      "outputs": [
        {
          "output_type": "stream",
          "name": "stdout",
          "text": [
            "<_io.TextIOWrapper name='file2.txt' mode='w' encoding='utf-8'>\n"
          ]
        }
      ]
    },
    {
      "cell_type": "code",
      "source": [
        "# 5 How would you catch and handle division by zero error in Python?\n",
        "\n",
        "try:\n",
        "  result = 10 / 0\n",
        "except ZeroDivisionError:\n",
        "  print(\"Error: Division by zero\")"
      ],
      "metadata": {
        "colab": {
          "base_uri": "https://localhost:8080/"
        },
        "id": "43hSmVSU2jC9",
        "outputId": "bdb5cd73-7d14-4a9f-d512-a4848f8e1bcc"
      },
      "execution_count": 8,
      "outputs": [
        {
          "output_type": "stream",
          "name": "stdout",
          "text": [
            "Error: Division by zero\n"
          ]
        }
      ]
    },
    {
      "cell_type": "code",
      "source": [
        "# 6 Write a Python program that logs an error message to a log file when a division by zero exception occurs.\n",
        "\n",
        "import logging\n",
        "\n",
        "logging.basicConfig(filename='error_log.txt', level=logging.ERROR, format='%(asctime)s - %(levelname)s - %(message)s')\n",
        "\n",
        "try:\n",
        "    x = 10\n",
        "    y = 0\n",
        "    result = x / y\n",
        "except ZeroDivisionError as e:\n",
        "    logging.error(\"Attempted to divide by zero: %s\", e)\n",
        "    print(\"An error occurred. Check the log file for details.\")\n"
      ],
      "metadata": {
        "id": "rJAwfgLq2wnF"
      },
      "execution_count": null,
      "outputs": []
    },
    {
      "cell_type": "code",
      "source": [
        "# 7 How do you log information at different levels (INFO, ERROR, WARNING) in Python using the logging module?\n",
        "\n",
        "import logging\n",
        "\n",
        "logging.basicConfig(level=logging.INFO)\n",
        "\n",
        "logging.info(\"This is an info message.\")\n",
        "logging.warning(\"This is a warning message.\")\n",
        "logging.error(\"This is an error message.\")"
      ],
      "metadata": {
        "colab": {
          "base_uri": "https://localhost:8080/"
        },
        "id": "ENnxWpVe3ZcS",
        "outputId": "341aad11-cb74-4dcf-f3f6-e0b59625b72d"
      },
      "execution_count": 9,
      "outputs": [
        {
          "output_type": "stream",
          "name": "stderr",
          "text": [
            "WARNING:root:This is a warning message.\n",
            "ERROR:root:This is an error message.\n"
          ]
        }
      ]
    },
    {
      "cell_type": "code",
      "source": [
        "# 8 Write a program to handle a file opening error using exception handling\n",
        "\n",
        "try:\n",
        "  file = open(\"nonexistent.txt\", \"r\")\n",
        "except FileNotFoundError:\n",
        "  print(\"Error: File not found\")"
      ],
      "metadata": {
        "colab": {
          "base_uri": "https://localhost:8080/"
        },
        "id": "hL5Fo-c23iDp",
        "outputId": "6cc6bd1d-9050-4f5d-f5b4-68bbfb82c248"
      },
      "execution_count": 11,
      "outputs": [
        {
          "output_type": "stream",
          "name": "stdout",
          "text": [
            "Error: File not found\n"
          ]
        }
      ]
    },
    {
      "cell_type": "code",
      "source": [
        "# 9 How can you read a file line by line and store its content in a list in Python\n",
        "\n",
        "file = open(\"example.txt\", \"r\")\n",
        "lines = file.readlines()\n",
        "file.close()\n",
        "print(list(lines))"
      ],
      "metadata": {
        "colab": {
          "base_uri": "https://localhost:8080/"
        },
        "id": "UBSOlb9Y3pG4",
        "outputId": "e05fe103-a842-43be-bbdc-dc727bb73506"
      },
      "execution_count": 14,
      "outputs": [
        {
          "output_type": "stream",
          "name": "stdout",
          "text": [
            "['Hello, World!\\n', 'Octopuses have three hearts\\n', 'Two pump blood to the gills, while the third pumps it to the rest of the body.']\n"
          ]
        }
      ]
    },
    {
      "cell_type": "code",
      "source": [
        "# 10 How can you append data to an existing file in Python\n",
        "\n",
        "file = open(\"example.txt\", \"a\")\n",
        "file.write(\"\\nThis is appended text.\")\n",
        "file.close()\n",
        "file = open(\"example.txt\", \"r\")\n",
        "lines = file.readlines()\n",
        "file.close()\n",
        "print(lines)"
      ],
      "metadata": {
        "colab": {
          "base_uri": "https://localhost:8080/"
        },
        "id": "qdek_6VZ39Mf",
        "outputId": "b7da2508-5ccc-4ba6-81ec-52a3ac263b15"
      },
      "execution_count": 22,
      "outputs": [
        {
          "output_type": "stream",
          "name": "stdout",
          "text": [
            "['Hello, World!\\n', 'Octopuses have three hearts\\n', 'Two pump blood to the gills, while the third pumps it to the rest of the body.\\n', 'This is appended text.\\n', 'This is appended text.\\n', 'This is appended text.\\n', 'This is appended text.\\n', 'This is appended text.\\n', 'This is appended text.\\n', 'This is appended text.\\n', 'This is appended text.']\n"
          ]
        }
      ]
    },
    {
      "cell_type": "code",
      "source": [
        "# 11 Write a Python program that uses a try-except block to handle an error when attempting to access a dictionary key that doesn't exist.\n",
        "\n",
        "my_dict = {'a': 1, 'b': 2, 'c': 3}\n",
        "\n",
        "try:\n",
        "  value = my_dict['d']\n",
        "except KeyError:\n",
        "  print(\"Error: Key not found in dictionary\")"
      ],
      "metadata": {
        "colab": {
          "base_uri": "https://localhost:8080/"
        },
        "id": "2qr-Vi004c65",
        "outputId": "572459b8-6d87-4cec-bdcc-ec3aaa4127fc"
      },
      "execution_count": 23,
      "outputs": [
        {
          "output_type": "stream",
          "name": "stdout",
          "text": [
            "Error: Key not found in dictionary\n"
          ]
        }
      ]
    },
    {
      "cell_type": "code",
      "source": [
        "# 12 Write a program that demonstrates using multiple except blocks to handle different types of exceptions\n",
        "\n",
        "try:\n",
        "  result = 10 / 0\n",
        "except ZeroDivisionError:\n",
        "  print(\"Error: Division by zero\")\n",
        "except TypeError:\n",
        "  print(\"Error: Type error\")"
      ],
      "metadata": {
        "colab": {
          "base_uri": "https://localhost:8080/"
        },
        "id": "5SQDHA1048Wp",
        "outputId": "7e09dee5-e88c-407c-9810-9098be32fdba"
      },
      "execution_count": 24,
      "outputs": [
        {
          "output_type": "stream",
          "name": "stdout",
          "text": [
            "Error: Division by zero\n"
          ]
        }
      ]
    },
    {
      "cell_type": "code",
      "source": [
        "# 13 How would you check if a file exists before attempting to read it in Python.\n",
        "\n",
        "import os\n",
        "\n",
        "file_path = 'example.txt'\n",
        "if os.path.exists(file_path):\n",
        "    with open(file_path, 'r') as file:\n",
        "        content = file.read()\n",
        "        print(content)\n",
        "else:\n",
        "    print(f\"The file {file_path} does not exist.\")"
      ],
      "metadata": {
        "colab": {
          "base_uri": "https://localhost:8080/"
        },
        "id": "O0GgJfYZ5KbR",
        "outputId": "a0e9d656-0a34-4e0a-b5e3-667f3fb042c0"
      },
      "execution_count": 25,
      "outputs": [
        {
          "output_type": "stream",
          "name": "stdout",
          "text": [
            "Hello, World!\n",
            "Octopuses have three hearts\n",
            "Two pump blood to the gills, while the third pumps it to the rest of the body.\n",
            "This is appended text.\n",
            "This is appended text.\n",
            "This is appended text.\n",
            "This is appended text.\n",
            "This is appended text.\n",
            "This is appended text.\n",
            "This is appended text.\n",
            "This is appended text.\n"
          ]
        }
      ]
    },
    {
      "cell_type": "code",
      "source": [
        "# 14 Write a program that uses the logging module to log both informational and error messages\n",
        "\n",
        "import logging\n",
        "\n",
        "# Configure logging\n",
        "logging.basicConfig(filename='app.log', level=logging.DEBUG,\n",
        "                    format='%(asctime)s - %(levelname)s - %(message)s')\n",
        "\n",
        "# Log an informational message\n",
        "logging.info(\"This is an informational message.\")\n",
        "\n",
        "try:\n",
        "    # Some code that might cause an error\n",
        "    x = 10\n",
        "    y = 0\n",
        "    result = x / y  # Division by zero\n",
        "except ZeroDivisionError as e:\n",
        "    logging.error(\"Error occurred: %s\", e)\n",
        "\n",
        "# Log another informational message\n",
        "logging.info(\"Program finished executing.\")\n"
      ],
      "metadata": {
        "colab": {
          "base_uri": "https://localhost:8080/"
        },
        "id": "2nlx9k3-5pOq",
        "outputId": "c96312c4-6f82-4d45-d602-a02396dffafb"
      },
      "execution_count": 26,
      "outputs": [
        {
          "output_type": "stream",
          "name": "stderr",
          "text": [
            "ERROR:root:Error occurred: division by zero\n"
          ]
        }
      ]
    },
    {
      "cell_type": "code",
      "source": [
        "# 15 Write a Python program that prints the content of a file and handles the case when the file is empty\n",
        "\n",
        "try:\n",
        "  file = open(\"example.txt\", \"r\")\n",
        "  content = file.read()\n",
        "  if content:\n",
        "    print(content)\n",
        "  else:\n",
        "    print(\"File is empty\")\n",
        "except FileNotFoundError:\n",
        "  print(\"Error: File not found\")"
      ],
      "metadata": {
        "colab": {
          "base_uri": "https://localhost:8080/"
        },
        "id": "H1CDaQCFEAla",
        "outputId": "b0f7d1d6-7833-49c0-92a9-7b515f360b8d"
      },
      "execution_count": 27,
      "outputs": [
        {
          "output_type": "stream",
          "name": "stdout",
          "text": [
            "Hello, World!\n",
            "Octopuses have three hearts\n",
            "Two pump blood to the gills, while the third pumps it to the rest of the body.\n",
            "This is appended text.\n",
            "This is appended text.\n",
            "This is appended text.\n",
            "This is appended text.\n",
            "This is appended text.\n",
            "This is appended text.\n",
            "This is appended text.\n",
            "This is appended text.\n"
          ]
        }
      ]
    },
    {
      "cell_type": "code",
      "source": [
        "# 16 Demonstrate how to use memory profiling to check the memory usage of a small program\n",
        "\n",
        "#pip install memory-profiler\n",
        "from memory_profiler import profile\n",
        "\n",
        "@profile\n",
        "def my_function():\n",
        "    a = [i for i in range(10000)]  # List of 10,000 integers\n",
        "    b = [i**2 for i in range(10000)]  # List of squares\n",
        "    del a  # Deleting list 'a' to free memory\n",
        "    return b\n",
        "\n",
        "if __name__ == '__main__':\n",
        "    my_function()\n"
      ],
      "metadata": {
        "id": "WfHsXZOQEl9j"
      },
      "execution_count": null,
      "outputs": []
    },
    {
      "cell_type": "code",
      "source": [
        "# 17 Write a Python program to create and write a list of numbers to a file, one number per line\n",
        "\n",
        "numbers = [1, 2, 3, 4, 5]\n",
        "\n",
        "with open('numbers.txt', 'w') as file:\n",
        "    for number in numbers:\n",
        "        file.write(str(number) + '\\n')\n",
        "with open('numbers.txt', 'r') as file:\n",
        "    lines = file.read()\n",
        "    print(lines)"
      ],
      "metadata": {
        "colab": {
          "base_uri": "https://localhost:8080/"
        },
        "id": "SPq5cFB2FKmP",
        "outputId": "61539ad9-2c68-4a97-bad2-469be32f223e"
      },
      "execution_count": 38,
      "outputs": [
        {
          "output_type": "stream",
          "name": "stdout",
          "text": [
            "1\n",
            "2\n",
            "3\n",
            "4\n",
            "5\n",
            "\n"
          ]
        }
      ]
    },
    {
      "cell_type": "code",
      "source": [
        "# 18 How would you implement a basic logging setup that logs to a file with rotation after 1MB\n",
        "\n",
        "import logging\n",
        "from logging.handlers import RotatingFileHandler\n",
        "\n",
        "\n",
        "log_file = 'app.log'\n",
        "handler = RotatingFileHandler(log_file, maxBytes=1e6, backupCount=3)\n",
        "handler.setLevel(logging.INFO)\n",
        "formatter = logging.Formatter('%(asctime)s - %(levelname)s - %(message)s')\n",
        "handler.setFormatter(formatter)\n",
        "\n",
        "\n",
        "logging.basicConfig(level=logging.INFO, handlers=[handler])\n",
        "\n",
        "logging.info(\"This is an info message.\")\n",
        "logging.error(\"This is an error message.\")\n",
        "\n",
        "\n"
      ],
      "metadata": {
        "colab": {
          "base_uri": "https://localhost:8080/"
        },
        "id": "OFjX0BfaGGVe",
        "outputId": "94cd086b-82a9-4b08-a3fc-893de8e00241"
      },
      "execution_count": 42,
      "outputs": [
        {
          "output_type": "stream",
          "name": "stderr",
          "text": [
            "ERROR:root:This is an error message.\n"
          ]
        }
      ]
    },
    {
      "cell_type": "code",
      "source": [
        "# 19 Write a program that handles both IndexError and KeyError using a try-except block\n",
        "\n",
        "my_dict = {'a': 1, 'b': 2, 'c': 3}\n",
        "\n",
        "try:\n",
        "  value = my_dict['d']\n",
        "except KeyError as ke:\n",
        "  print(\"Error: Key not found in dictionary\", ke)\n",
        "except IndexError as ie:\n",
        "  print(\"Error: Index out of range\", ie)"
      ],
      "metadata": {
        "colab": {
          "base_uri": "https://localhost:8080/"
        },
        "id": "CjZC_7a4FYws",
        "outputId": "b1002f05-e5ff-4f76-fba8-82396e7de541"
      },
      "execution_count": 39,
      "outputs": [
        {
          "output_type": "stream",
          "name": "stdout",
          "text": [
            "Error: Key not found in dictionary 'd'\n"
          ]
        }
      ]
    },
    {
      "cell_type": "code",
      "source": [
        "# 20 How would you open a file and read its contents using a context manager in Python?\n",
        "\n",
        "\n",
        "with open('example.txt', 'r') as file:\n",
        "\n",
        "    content = file.read()\n",
        "    print(content)\n"
      ],
      "metadata": {
        "colab": {
          "base_uri": "https://localhost:8080/"
        },
        "id": "C7xi2B3TF_rN",
        "outputId": "06171e18-7789-464d-dc25-a256f773aa11"
      },
      "execution_count": 45,
      "outputs": [
        {
          "output_type": "stream",
          "name": "stdout",
          "text": [
            "Hello, World!\n",
            "Octopuses have three hearts\n",
            "Two pump blood to the gills, while the third pumps it to the rest of the body.\n",
            "This is appended text.\n",
            "This is appended text.\n",
            "This is appended text.\n",
            "This is appended text.\n",
            "This is appended text.\n",
            "This is appended text.\n",
            "This is appended text.\n",
            "This is appended text.\n"
          ]
        }
      ]
    },
    {
      "cell_type": "code",
      "source": [
        "# 21 Write a Python program that reads a file and prints the number of occurrences of a specific word\n",
        "\n",
        "def count_word_occurrences(file_path, word_to_search):\n",
        "    try:\n",
        "        with open(file_path, 'r') as file:\n",
        "            content = file.read()\n",
        "            word_count = content.lower().split().count(word_to_search.lower())\n",
        "            return word_count\n",
        "    except FileNotFoundError:\n",
        "        print(f\"The file '{file_path}' was not found.\")\n",
        "        return 0\n",
        "\n",
        "\n",
        "file_path = 'example.txt'\n",
        "word_to_search = 'appended'\n",
        "\n",
        "occurrences = count_word_occurrences(file_path, word_to_search)\n",
        "print(f\"The word '{word_to_search}' appears {occurrences} times in the file.\")\n",
        "\n",
        "\n"
      ],
      "metadata": {
        "colab": {
          "base_uri": "https://localhost:8080/"
        },
        "id": "1V5VKDBzGmAV",
        "outputId": "b8452a3e-20cd-43fd-9b67-66eba8761d48"
      },
      "execution_count": 54,
      "outputs": [
        {
          "output_type": "stream",
          "name": "stdout",
          "text": [
            "The word 'appended' appears 8 times in the file.\n"
          ]
        }
      ]
    },
    {
      "cell_type": "code",
      "source": [
        "# 22 How can you check if a file is empty before attempting to read its contents\n",
        "\n",
        "import os\n",
        "\n",
        "def is_file_empty(file_path):\n",
        "    return os.stat(file_path).st_size == 0\n",
        "\n",
        "def read_file(file_path):\n",
        "    if is_file_empty(file_path):\n",
        "        print(f\"The file {file_path} is empty.\")\n",
        "    else:\n",
        "        with open(file_path, 'r') as file:\n",
        "            content = file.read()\n",
        "            print(content)\n",
        "\n",
        "# Example usage:\n",
        "file_path = 'example.txt'\n",
        "read_file(file_path)\n"
      ],
      "metadata": {
        "colab": {
          "base_uri": "https://localhost:8080/"
        },
        "id": "ofa7EWYKG2pt",
        "outputId": "70f2cc60-1be8-4890-f819-7d8b764e896f"
      },
      "execution_count": 55,
      "outputs": [
        {
          "output_type": "stream",
          "name": "stdout",
          "text": [
            "Hello, World!\n",
            "Octopuses have three hearts\n",
            "Two pump blood to the gills, while the third pumps it to the rest of the body.\n",
            "This is appended text.\n",
            "This is appended text.\n",
            "This is appended text.\n",
            "This is appended text.\n",
            "This is appended text.\n",
            "This is appended text.\n",
            "This is appended text.\n",
            "This is appended text.\n"
          ]
        }
      ]
    },
    {
      "cell_type": "code",
      "source": [
        "# 23 Write a Python program that writes to a log file when an error occurs during file handling\n",
        "import logging\n",
        "\n",
        "\n",
        "logging.basicConfig(filename='file_handling_error.log', level=logging.ERROR,\n",
        "                    format='%(asctime)s - %(levelname)s - %(message)s')\n",
        "\n",
        "def handle_file(file_path):\n",
        "    try:\n",
        "\n",
        "        with open(file_path, 'r') as file:\n",
        "            content = file.read()\n",
        "            print(content)\n",
        "\n",
        "    except FileNotFoundError as e:\n",
        "        logging.error(f\"File not found: {file_path}. Error: {e}\")\n",
        "        print(f\"Error: {e}. Please check the log file for more details.\")\n",
        "\n",
        "    except IOError as e:\n",
        "        logging.error(f\"I/O error occurred while handling the file {file_path}. Error: {e}\")\n",
        "        print(f\"An error occurred. Please check the log file for details.\")\n",
        "\n",
        "    except Exception as e:\n",
        "        logging.error(f\"Unexpected error while handling the file {file_path}. Error: {e}\")\n",
        "        print(f\"An unexpected error occurred. Please check the log file for more details.\")\n",
        "\n",
        "# Example usage\n",
        "file_path = 'non_existent_file.txt'\n",
        "handle_file(file_path)\n"
      ],
      "metadata": {
        "colab": {
          "base_uri": "https://localhost:8080/"
        },
        "id": "GTYl0J2-IUcZ",
        "outputId": "a6ae7498-2432-4ea4-b08e-7eec748ccbd8"
      },
      "execution_count": 57,
      "outputs": [
        {
          "output_type": "stream",
          "name": "stderr",
          "text": [
            "ERROR:root:File not found: non_existent_file.txt. Error: [Errno 2] No such file or directory: 'non_existent_file.txt'\n"
          ]
        },
        {
          "output_type": "stream",
          "name": "stdout",
          "text": [
            "Error: [Errno 2] No such file or directory: 'non_existent_file.txt'. Please check the log file for more details.\n"
          ]
        }
      ]
    },
    {
      "cell_type": "code",
      "source": [],
      "metadata": {
        "id": "ARsY673DIY_I"
      },
      "execution_count": null,
      "outputs": []
    }
  ]
}