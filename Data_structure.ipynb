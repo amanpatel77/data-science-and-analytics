{
  "nbformat": 4,
  "nbformat_minor": 0,
  "metadata": {
    "colab": {
      "provenance": []
    },
    "kernelspec": {
      "name": "python3",
      "display_name": "Python 3"
    },
    "language_info": {
      "name": "python"
    }
  },
  "cells": [
    {
      "cell_type": "markdown",
      "source": [
        "# **1 - What are data structures, and why are they important?**\n",
        "\n",
        "  - Data structures are specialized formats used for organizing, storing, and accessing collections of data. They provide efficient ways to manage information based on its characteristics and intended use.\n",
        "  - Importance of data structures\n",
        "    - Right data structure can significantly improve the efficiency & performance of your program.\n",
        "    - Simplify data manipulation\n",
        "    - Optimize searching and sorting operations\n",
        "    - Conserve memory usage\n",
        "\n",
        "# **2 - Explain the difference between mutable and immutable data types with examples.**\n",
        "\n",
        " - We can manipulated mutable data types like adding , removing, etc.\n",
        "  - eg list, dictionary\n",
        "  - We cannot manipulate immutable data types\n",
        "  - eg string , tuples.\n",
        "\n",
        "# **3 - What are the main differences between lists and tuples in Python ?**\n",
        "\n",
        "  - Lists are mutable data type.\n",
        "  - Lists are versetile for storing data that can change.\n",
        "  - Tuples  are immutable data type.\n",
        "  - Tuples are used for storing fixed datasets.\n",
        "\n",
        "# **4 - Describe how dictionaries store data.**\n",
        "\n",
        "  - Dictionaries stores data in key value pairs\n",
        "  - Dictinories are ordered collection of data\n",
        "  - Dictionaries are mutable.\n",
        "  - eg mydict = {\"name\" : \"aman\"}\n",
        "\n",
        "# **5 - Why might you use a set instead of a list in Python.**\n",
        "\n",
        "  - Sets do not show duplicate values .\n",
        "  - Sets are usefull for checing memberships\n",
        "  - sets are also usefull for finding intersectiong/differnce of sets.\n",
        "  - for eg if you are making a program for shopping list you dont want duplicate values then it better to use set instead of list.\n",
        "\n",
        "# **6 - What is a string in Python, and how is it different from a list.**\n",
        "  \n",
        "  - strings are set of characters.\n",
        "  - String is immutable.\n",
        "\n",
        "# **7 - How do tuples ensure data integrity in Python.**\n",
        "\n",
        "  - Tuples are ordered immutable collection of elements.\n",
        "  - As we cannot change elements in tuples data stored in tuples are fixed datasets\n",
        "  - Tuple provides a secure way to store data than should not be modified.\n",
        "\n",
        "# **8 - What is a hash table, and how does it relate to dictionaries in Python.**\n",
        "\n",
        "  - Hash table is a data structure that maps keys to values using hash function.\n",
        "  - Hash function determine where to store value of key.\n",
        "\n",
        "# **9 - Can lists contain different data types in Python?**\n",
        "\n",
        "  - Yes , List can contain different data types in Python.\n",
        "\n",
        "# **10 - Explain why strings are immutable in Python.**\n",
        "\n",
        "  - Strings are immutable because we cannot modify string in python.\n",
        "  - Strings are stored in unchaneable order.\n",
        "\n",
        "# **11 - What advantages do dictionaries offer over lists for certain tasks?**\n",
        "\n",
        "  - Using dictionaries you can get any value stored in dictionaries by their respective key while in list you have to check the index number of the item to access it.\n",
        "  - Dictionaries dont allow dupicate keys.\n",
        "\n",
        "# **12 - Describe a scenario where using a tuple would be preferable over a list.**\n",
        "\n",
        "  - If you are creating a program for storing employe id so in this scenario tuple is preferable over list as employe id is a fixed dataset.\n",
        "\n",
        "# **13 - How do sets handle duplicate values in Python.**\n",
        "\n",
        "  - sets are unorderd collection of unique elements.\n",
        "  - set ignores the duplicate values.\n",
        "  - eg a = (1,2,1,3,4,5)\n",
        "  - print (a)\n",
        "  - output: (1,2,3,4,5)\n",
        "\n",
        "# **14 - How does the “in” keyword work differently for lists and dictionaries.**\n",
        "\n",
        "  - In list the \"in\" keyword checks if the value exists in the list and give Boolean value\n",
        "  - In dictionaries the \"in\" keywrd check if the key exists in the dictionaries and give Boolean value\n",
        "  - If you want to check values in a dictionary, you need to be more specific\n",
        "  for eg . print(\"Alice\" in person.values())\n",
        "\n",
        "# **15 - Can you modify the elements of a tuple? Explain why or why not.**\n",
        "\n",
        "  - No, you cannot modify the elements of a tuple because tuple is immutable data type.\n",
        "  - tuple has fixed value dataset which we cannot modify.\n",
        "\n",
        "# **16 - What is a nested dictionary, and give an example of its use case.**\n",
        "\n",
        "  - A nested dictionary is a dictionary inside another dictionary .\n",
        "  for eg, emp = {\"emp1\" : {\"Name\": \"xyz\" , \"Age\":21 }, \"emp2\" : {\"Name\": \"abc\" , \"Age\":23 }\n",
        "  - Nested dictionary is used when you need to organize data  hierarchically\n",
        "\n",
        "# **17 -Describe the time complexity of accessing elements in a dictionary.**\n",
        "\n",
        "  - In dictionary data is stored using hashtable that help in constant time effeciency .\n",
        "  _ For Retrieval , insertion & deletion of data , first the key is hashed then it locates where the data is stored and then it retrives , inserts or delets the data .  This takes constant time on average\n",
        "\n",
        "# **18 - In what situations are lists preferred over dictionaries.**\n",
        "\n",
        "  - When you want to store data in order and sequence.\n",
        "  - When you need to store  duplicate data.\n",
        "  - When you want to access data using index number.\n",
        "\n",
        "# **19 - Why are dictionaries considered unordered, and how does that affect data retrieval?**\n",
        "\n",
        "  - Data in dictionary is stored using hash table .\n",
        "  - When you store data in key value pair python hashes the key determines where the value should be stored.\n",
        "  - Dictionaries focuses on fast lookup.\n",
        "  - Data retrieval is easy in dictionaries as you dont have to search on which index number the data is stored which you want to access.\n",
        "\n",
        "# **20 - Explain the difference between a list and a dictionary in terms of data retrieval.**\n",
        "\n",
        "  - Data retieval in list is done using Index numbers.\n",
        "  - Data retieval in Dictionaries is done using Hash table.\n"
      ],
      "metadata": {
        "id": "ZJ7pYgrw8Mco"
      }
    },
    {
      "cell_type": "code",
      "source": [
        "# 1 - Write a code to create a string with your name and print it\n",
        "\n",
        "Name = \"AMAN\"\n",
        "print(Name)"
      ],
      "metadata": {
        "colab": {
          "base_uri": "https://localhost:8080/"
        },
        "id": "zyRyfOhOJqfh",
        "outputId": "6192cde9-912c-4495-e6eb-d57976912881"
      },
      "execution_count": 1,
      "outputs": [
        {
          "output_type": "stream",
          "name": "stdout",
          "text": [
            "AMAN\n"
          ]
        }
      ]
    },
    {
      "cell_type": "code",
      "source": [
        "# 2 - Write a code to find the length of the string \"Hello World\"\n",
        "\n",
        "a = \"Hello World\"\n",
        "print(len(a))"
      ],
      "metadata": {
        "colab": {
          "base_uri": "https://localhost:8080/"
        },
        "id": "gRWAis0-J6YZ",
        "outputId": "c049ce15-4024-4958-c240-ab1fe7af6b0c"
      },
      "execution_count": 2,
      "outputs": [
        {
          "output_type": "stream",
          "name": "stdout",
          "text": [
            "11\n"
          ]
        }
      ]
    },
    {
      "cell_type": "code",
      "source": [
        "# 3 Write a code to slice the first 3 characters from the string \"Python Programming\".\n",
        "\n",
        "b = \"Python Programming\"\n",
        "print(b[:3])"
      ],
      "metadata": {
        "colab": {
          "base_uri": "https://localhost:8080/"
        },
        "id": "z8PQIR2OKWm4",
        "outputId": "616bcd8c-3723-4d4a-872a-56e7e00ce929"
      },
      "execution_count": 4,
      "outputs": [
        {
          "output_type": "stream",
          "name": "stdout",
          "text": [
            "Pyt\n"
          ]
        }
      ]
    },
    {
      "cell_type": "code",
      "source": [
        "# 4 Write a code to convert the string \"hello\" to uppercase.\n",
        "\n",
        "c = \"hello\"\n",
        "print(c.upper())"
      ],
      "metadata": {
        "colab": {
          "base_uri": "https://localhost:8080/"
        },
        "id": "e4eXzNsKKmyv",
        "outputId": "d6933978-6f14-4f3e-ca43-61184c5cd6a1"
      },
      "execution_count": 8,
      "outputs": [
        {
          "output_type": "stream",
          "name": "stdout",
          "text": [
            "HELLO\n"
          ]
        }
      ]
    },
    {
      "cell_type": "code",
      "source": [
        "# 5 Write a code to replace the word \"apple\" with \"orange\" in the string \"I like apple\"\n",
        "\n",
        "d = \"I like apple\"\n",
        "d.replace(\"apple\",\"orange\")"
      ],
      "metadata": {
        "colab": {
          "base_uri": "https://localhost:8080/",
          "height": 36
        },
        "id": "T9BzbZjTK3fR",
        "outputId": "2fcaba4b-72ab-4912-e3bc-c0d474331a8d"
      },
      "execution_count": 9,
      "outputs": [
        {
          "output_type": "execute_result",
          "data": {
            "text/plain": [
              "'I like orange'"
            ],
            "application/vnd.google.colaboratory.intrinsic+json": {
              "type": "string"
            }
          },
          "metadata": {},
          "execution_count": 9
        }
      ]
    },
    {
      "cell_type": "code",
      "source": [
        "# 6 Write a code to create a list with numbers 1 to 5 and print it\n",
        "\n",
        "numbers = [1,2,3,4,5]\n",
        "\n",
        "print(numbers)"
      ],
      "metadata": {
        "colab": {
          "base_uri": "https://localhost:8080/"
        },
        "id": "MpSk_6NsLy1S",
        "outputId": "16f0085b-19c7-49ae-8984-814577626d51"
      },
      "execution_count": 11,
      "outputs": [
        {
          "output_type": "stream",
          "name": "stdout",
          "text": [
            "[1, 2, 3, 4, 5]\n"
          ]
        }
      ]
    },
    {
      "cell_type": "code",
      "source": [
        "# 7 Write a code to append the number 10 to the list [1, 2, 3, 4].\n",
        "\n",
        "f = [1,2,3,4]\n",
        "f.append(10)\n",
        "print(f)"
      ],
      "metadata": {
        "colab": {
          "base_uri": "https://localhost:8080/"
        },
        "id": "XLXpoc7sMG7K",
        "outputId": "6895dd3a-0d03-4e42-abff-31025d5c17fc"
      },
      "execution_count": 12,
      "outputs": [
        {
          "output_type": "stream",
          "name": "stdout",
          "text": [
            "[1, 2, 3, 4, 10]\n"
          ]
        }
      ]
    },
    {
      "cell_type": "code",
      "source": [
        "# 8 Write a code to remove the number 3 from the list [1, 2, 3, 4, 5]\n",
        "\n",
        "e = [1,2,3,4,5]\n",
        "e.remove(3)\n",
        "print(e)"
      ],
      "metadata": {
        "colab": {
          "base_uri": "https://localhost:8080/"
        },
        "id": "_aiamXI1MaMr",
        "outputId": "0061c8f3-c454-409c-ae5e-92b1e9e49be6"
      },
      "execution_count": 14,
      "outputs": [
        {
          "output_type": "stream",
          "name": "stdout",
          "text": [
            "[1, 2, 4, 5]\n"
          ]
        }
      ]
    },
    {
      "cell_type": "code",
      "source": [
        "#  9 Write a code to access the second element in the list ['a', 'b', 'c', 'd']\n",
        "\n",
        "g = ['a', 'b', 'c', 'd']\n",
        "print(g[1])"
      ],
      "metadata": {
        "colab": {
          "base_uri": "https://localhost:8080/"
        },
        "id": "qYQbeZvpMoy7",
        "outputId": "87c261e2-d268-44f0-9fc7-f991ba1f503b"
      },
      "execution_count": 15,
      "outputs": [
        {
          "output_type": "stream",
          "name": "stdout",
          "text": [
            "b\n"
          ]
        }
      ]
    },
    {
      "cell_type": "code",
      "source": [
        "# 10 Write a code to reverse the list [10, 20, 30, 40, 50].\n",
        "\n",
        "rev = [10, 20, 30, 40, 50]\n",
        "print(rev[::-1])"
      ],
      "metadata": {
        "colab": {
          "base_uri": "https://localhost:8080/"
        },
        "id": "w2Hw0A0aNE9c",
        "outputId": "5666f939-cf4a-4c76-f59b-9f99fdd1c802"
      },
      "execution_count": 16,
      "outputs": [
        {
          "output_type": "stream",
          "name": "stdout",
          "text": [
            "[50, 40, 30, 20, 10]\n"
          ]
        }
      ]
    },
    {
      "cell_type": "code",
      "source": [
        " # 11 Write a code to create a tuple with the elements 100, 200, 300 and print it.\n",
        "\n",
        " tpl = (100 ,200, 300)\n",
        " print(tpl)\n",
        " print(type(tpl))"
      ],
      "metadata": {
        "colab": {
          "base_uri": "https://localhost:8080/"
        },
        "id": "QrXTIlOhNV0L",
        "outputId": "cfc9ed7b-b370-41a5-d88f-810ea53f8619"
      },
      "execution_count": 19,
      "outputs": [
        {
          "output_type": "stream",
          "name": "stdout",
          "text": [
            "(100, 200, 300)\n",
            "<class 'tuple'>\n"
          ]
        }
      ]
    },
    {
      "cell_type": "code",
      "source": [
        "# 12  Write a code to access the second-to-last element of the tuple ('red', 'green', 'blue', 'yellow').\n",
        "\n",
        "tpl1 = ('red', 'green', 'blue', 'yellow')\n",
        "print(tpl1[-2])"
      ],
      "metadata": {
        "colab": {
          "base_uri": "https://localhost:8080/"
        },
        "id": "M2eytDrmNiIs",
        "outputId": "5ed3e585-d47a-472e-9adf-56767dc225cd"
      },
      "execution_count": 20,
      "outputs": [
        {
          "output_type": "stream",
          "name": "stdout",
          "text": [
            "blue\n"
          ]
        }
      ]
    },
    {
      "cell_type": "code",
      "source": [
        "# 13 Write a code to find the minimum number in the tuple (10, 20, 5, 15) .\n",
        "tpl2 = (10,20,5,15)\n",
        "print(min(tpl2))"
      ],
      "metadata": {
        "colab": {
          "base_uri": "https://localhost:8080/"
        },
        "id": "sbzi55-GNwTN",
        "outputId": "475032da-b95b-4fa3-b5eb-b5baa31719b5"
      },
      "execution_count": 21,
      "outputs": [
        {
          "output_type": "stream",
          "name": "stdout",
          "text": [
            "5\n"
          ]
        }
      ]
    },
    {
      "cell_type": "code",
      "source": [
        "# 14 Write a code to find the index of the element \"cat\" in the tuple ('dog', 'cat', 'rabbit').\n",
        "\n",
        "tpl3 = ('dog', 'cat', 'rabbit')\n",
        "print(tpl3.index(\"cat\"))\n"
      ],
      "metadata": {
        "colab": {
          "base_uri": "https://localhost:8080/"
        },
        "id": "Mbwaxw_XOMBN",
        "outputId": "4239bea8-d506-4597-aca3-7a0897857778"
      },
      "execution_count": 22,
      "outputs": [
        {
          "output_type": "stream",
          "name": "stdout",
          "text": [
            "1\n"
          ]
        }
      ]
    },
    {
      "cell_type": "code",
      "source": [
        " # 15 Write a code to create a tuple containing three different fruits and check if \"kiwi\" is in it.\n",
        "\n",
        " tpl4 = (\"apple\",\"banana\",\"kiwi\")\n",
        " print(\"kiwi\" in tpl4)"
      ],
      "metadata": {
        "colab": {
          "base_uri": "https://localhost:8080/"
        },
        "id": "QGI83p5GOV9e",
        "outputId": "2827d489-767e-4a3e-acaf-c482aac9c61d"
      },
      "execution_count": 23,
      "outputs": [
        {
          "output_type": "stream",
          "name": "stdout",
          "text": [
            "True\n"
          ]
        }
      ]
    },
    {
      "cell_type": "code",
      "source": [
        "# 16 Write a code to create a set with the elements 'a', 'b', 'c' and print it.\n",
        "\n",
        "s = {\"a\",\"b\",\"c\"}\n",
        "print(s)"
      ],
      "metadata": {
        "colab": {
          "base_uri": "https://localhost:8080/"
        },
        "id": "1Ks9ecMiOsTV",
        "outputId": "0a6f9201-88a3-4487-f102-cd603b697aef"
      },
      "execution_count": 24,
      "outputs": [
        {
          "output_type": "stream",
          "name": "stdout",
          "text": [
            "{'a', 'b', 'c'}\n"
          ]
        }
      ]
    },
    {
      "cell_type": "code",
      "source": [
        "# 17  Write a code to clear all elements from the set {1, 2, 3, 4, 5}.\n",
        "\n",
        "s1 = {1, 2, 3, 4, 5}\n",
        "s1.clear()\n",
        "print(s1)"
      ],
      "metadata": {
        "colab": {
          "base_uri": "https://localhost:8080/"
        },
        "id": "6BYAiOQ1O0jm",
        "outputId": "bc12a2d8-d522-4c1e-94e7-f695aef7e583"
      },
      "execution_count": 28,
      "outputs": [
        {
          "output_type": "stream",
          "name": "stdout",
          "text": [
            "set()\n"
          ]
        }
      ]
    },
    {
      "cell_type": "code",
      "source": [
        "# 18  Write a code to remove the element 4 from the set {1, 2, 3, 4}.\n",
        "\n",
        "s2 = {1,2,3,4}\n",
        "s2.remove(4)\n",
        "print(s2)\n"
      ],
      "metadata": {
        "colab": {
          "base_uri": "https://localhost:8080/"
        },
        "id": "nw00utnZPDaO",
        "outputId": "c803d904-f0d7-4b86-ee15-da8dd85b9107"
      },
      "execution_count": 29,
      "outputs": [
        {
          "output_type": "stream",
          "name": "stdout",
          "text": [
            "{1, 2, 3}\n"
          ]
        }
      ]
    },
    {
      "cell_type": "code",
      "source": [
        "# 19  Write a code to find the union of two sets {1, 2, 3} and {3, 4, 5}\n",
        "\n",
        "s3 = {1, 2, 3}\n",
        "s4 = {3, 4, 5}\n",
        "print(s3.union(s4))"
      ],
      "metadata": {
        "colab": {
          "base_uri": "https://localhost:8080/"
        },
        "id": "AM70WWESPVG2",
        "outputId": "78356add-b984-4f1b-dd9c-086d38aa0150"
      },
      "execution_count": 31,
      "outputs": [
        {
          "output_type": "stream",
          "name": "stdout",
          "text": [
            "{1, 2, 3, 4, 5}\n"
          ]
        }
      ]
    },
    {
      "cell_type": "code",
      "source": [
        "# 20  Write a code to find the intersection of two sets {1, 2, 3} and {2, 3, 4}.\n",
        "\n",
        "s5 = {1, 2, 3}\n",
        "s6 = {2, 3, 4}\n",
        "print(s5.intersection(s6))"
      ],
      "metadata": {
        "colab": {
          "base_uri": "https://localhost:8080/"
        },
        "id": "0wSGGt5RPpMX",
        "outputId": "10605623-d1da-4389-969e-fb1ef36a79f1"
      },
      "execution_count": 32,
      "outputs": [
        {
          "output_type": "stream",
          "name": "stdout",
          "text": [
            "{2, 3}\n"
          ]
        }
      ]
    },
    {
      "cell_type": "code",
      "source": [
        "# 21 Write a code to create a dictionary with the keys \"name\", \"age\", and \"city\", and print it\n",
        "\n",
        "dct = {\"name\": \"aman\" , \"age\": 21 , \"city\": \"mumbai\"}\n",
        "print(dct)"
      ],
      "metadata": {
        "colab": {
          "base_uri": "https://localhost:8080/"
        },
        "id": "uYaM2Ew2QatZ",
        "outputId": "a5247cd5-43ed-4b84-fec3-a8a7f04f2164"
      },
      "execution_count": 33,
      "outputs": [
        {
          "output_type": "stream",
          "name": "stdout",
          "text": [
            "{'name': 'aman', 'age': 21, 'city': 'mumbai'}\n"
          ]
        }
      ]
    },
    {
      "cell_type": "code",
      "source": [
        "# 22 Write a code to add a new key-value pair \"country\": \"USA\" to the dictionary {'name': 'John', 'age': 25}.\n",
        "\n",
        "dct1 = {'name': 'John', 'age': 25}\n",
        "dct1[\"country\"] = \"USA\"\n",
        "print(dct1)"
      ],
      "metadata": {
        "colab": {
          "base_uri": "https://localhost:8080/"
        },
        "id": "5JdASalmQtAg",
        "outputId": "85771c4d-f9be-4f49-ff34-eddf4e5781a1"
      },
      "execution_count": 34,
      "outputs": [
        {
          "output_type": "stream",
          "name": "stdout",
          "text": [
            "{'name': 'John', 'age': 25, 'country': 'USA'}\n"
          ]
        }
      ]
    },
    {
      "cell_type": "code",
      "source": [
        "# 23 Write a code to access the value associated with the key \"name\" in the dictionary {'name': 'Alice', 'age': 30}.\n",
        "\n",
        "dct2 = {'name': 'Alice', 'age': 30}\n",
        "print(dct2[\"name\"])"
      ],
      "metadata": {
        "colab": {
          "base_uri": "https://localhost:8080/"
        },
        "id": "o9SHuTdNQ4x6",
        "outputId": "81170a72-8066-4457-8853-b837943ac661"
      },
      "execution_count": 35,
      "outputs": [
        {
          "output_type": "stream",
          "name": "stdout",
          "text": [
            "Alice\n"
          ]
        }
      ]
    },
    {
      "cell_type": "code",
      "source": [
        "# 23 Write a code to remove the key \"age\" from the dictionary {'name': 'Bob', 'age': 22, 'city': 'New York'}.\n",
        "\n",
        "dct3 = {'name': 'Bob', 'age': 22, 'city': 'New York'}\n",
        "dct3.pop(\"age\")\n",
        "print(dct3)"
      ],
      "metadata": {
        "colab": {
          "base_uri": "https://localhost:8080/"
        },
        "id": "j5BIoiR-REyq",
        "outputId": "8f39887f-b0c5-4805-b4d5-99f833864fae"
      },
      "execution_count": 36,
      "outputs": [
        {
          "output_type": "stream",
          "name": "stdout",
          "text": [
            "{'name': 'Bob', 'city': 'New York'}\n"
          ]
        }
      ]
    },
    {
      "cell_type": "code",
      "source": [
        "# 24  Write a code to check if the key \"city\" exists in the dictionary {'name': 'Alice', 'city': 'Paris'}.\n",
        "\n",
        "dct4 = {'name': 'Alice', 'city': 'Paris'}\n",
        "print(\"city\" in dct4)"
      ],
      "metadata": {
        "colab": {
          "base_uri": "https://localhost:8080/"
        },
        "id": "nnqbnutNRQBS",
        "outputId": "8b397a62-f6bf-4011-f812-b07c751f7133"
      },
      "execution_count": 37,
      "outputs": [
        {
          "output_type": "stream",
          "name": "stdout",
          "text": [
            "True\n"
          ]
        }
      ]
    },
    {
      "cell_type": "code",
      "source": [
        "# 25 Write a code to create a list, a tuple, and a dictionary, and print them all.\n",
        "\n",
        "lst = [1,2,'abc']\n",
        "tl = {1,2,'abc'}\n",
        "dct5 = {\"name\": \"aman\" , \"age\": 21 , \"city\": \"mumbai\"}\n",
        "print(lst)\n",
        "print(tl)\n",
        "print(dct5)"
      ],
      "metadata": {
        "colab": {
          "base_uri": "https://localhost:8080/"
        },
        "id": "2lMV_ZrIRnDa",
        "outputId": "5a903358-a8e8-4c95-fd89-2d7f06f83d7d"
      },
      "execution_count": 38,
      "outputs": [
        {
          "output_type": "stream",
          "name": "stdout",
          "text": [
            "[1, 2, 'abc']\n",
            "{1, 2, 'abc'}\n",
            "{'name': 'aman', 'age': 21, 'city': 'mumbai'}\n"
          ]
        }
      ]
    },
    {
      "cell_type": "code",
      "source": [
        "# 26 Write a code to create a list of 5 random numbers between 1 and 100, sort it in ascending order, and print the result.(replaced).\n",
        "\n",
        "l6 = [2,12,3,4,5]\n",
        "l6.sort()\n",
        "print(l6)"
      ],
      "metadata": {
        "colab": {
          "base_uri": "https://localhost:8080/"
        },
        "id": "hYLInmM4R2ZC",
        "outputId": "7e01f9cf-00c8-4613-d8e3-4d1c68ad2c19"
      },
      "execution_count": 43,
      "outputs": [
        {
          "output_type": "stream",
          "name": "stdout",
          "text": [
            "[2, 3, 4, 5, 12]\n"
          ]
        }
      ]
    },
    {
      "cell_type": "code",
      "source": [
        "# 27 Write a code to create a list with strings and print the element at the third index.\n",
        "\n",
        "name = ['aman', 'sam', 'john', 'bob']\n",
        "print(name[2])"
      ],
      "metadata": {
        "colab": {
          "base_uri": "https://localhost:8080/"
        },
        "id": "qbhYNi5YSei8",
        "outputId": "f6de75f9-b398-4ddb-ca72-d14638446d0a"
      },
      "execution_count": 44,
      "outputs": [
        {
          "output_type": "stream",
          "name": "stdout",
          "text": [
            "john\n"
          ]
        }
      ]
    },
    {
      "cell_type": "code",
      "source": [
        "# 28 Write a code to combine two dictionaries into one and print the result.\n",
        "\n",
        "dct6 = {\"name\": \"aman\" , \"age\": 21 , \"city\": \"mumbai\"}\n",
        "dct7 = {\"surname\": \"patel\" , \"number\": 1000000002}\n",
        "combined_dict = {**dct6, **dct7}\n",
        "print(combined_dict)"
      ],
      "metadata": {
        "colab": {
          "base_uri": "https://localhost:8080/"
        },
        "id": "KOUnA20wTwU9",
        "outputId": "0c42c2f8-2ad2-4232-9a88-589a50354e38"
      },
      "execution_count": 50,
      "outputs": [
        {
          "output_type": "stream",
          "name": "stdout",
          "text": [
            "{'name': 'aman', 'age': 21, 'city': 'mumbai', 'surname': 'patel', 'number': 1000000002}\n"
          ]
        }
      ]
    },
    {
      "cell_type": "code",
      "source": [
        "# 29 Write a code to convert a list of strings into a set.\n",
        "\n",
        "lst0 = ['aman', 'sam', 'john', 'bob']\n",
        "print(set(lst0))"
      ],
      "metadata": {
        "colab": {
          "base_uri": "https://localhost:8080/"
        },
        "id": "5Msb3Zf7UFMW",
        "outputId": "56df7268-9a0e-45f8-afbf-d200968b6543"
      },
      "execution_count": 51,
      "outputs": [
        {
          "output_type": "stream",
          "name": "stdout",
          "text": [
            "{'bob', 'john', 'sam', 'aman'}\n"
          ]
        }
      ]
    },
    {
      "cell_type": "code",
      "source": [],
      "metadata": {
        "id": "E1gA6ksyVO6Q"
      },
      "execution_count": null,
      "outputs": []
    }
  ]
}